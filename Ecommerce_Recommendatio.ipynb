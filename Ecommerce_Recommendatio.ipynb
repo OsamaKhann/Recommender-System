{
 "cells": [
  {
   "cell_type": "code",
   "execution_count": 6,
   "id": "dc89865f-f208-4c30-affc-269c85cdad3e",
   "metadata": {},
   "outputs": [],
   "source": [
    "import warnings\n",
    "warnings.filterwarnings('ignore')\n",
    "import numpy as np\n",
    "import pandas as pd\n",
    "import matplotlib.pyplot as plt\n",
    "import seaborn as sns\n",
    "sns.set_color_codes()\n",
    "sns.set(style=\"whitegrid\")\n",
    "%matplotlib inline\n",
    "\n",
    "from surprise import accuracy\n",
    "from surprise.model_selection.validation import cross_validate\n",
    "from surprise.dataset import Dataset\n",
    "from surprise.reader import Reader\n",
    "from surprise import SVD,SVDpp\n",
    "from surprise import KNNBasic\n",
    "from surprise import KNNWithMeans\n",
    "\n",
    "#setting up for customized printing\n",
    "from IPython.display import Markdown, display\n",
    "from IPython.display import HTML\n",
    "def printmd(string, color=None):\n",
    "    colorstr = \"<span style='color:{}'>{}</span>\".format(color, string)\n",
    "    display(Markdown(colorstr))\n",
    "    \n",
    "#function to display dataframes side by side    \n",
    "from IPython.display import display_html\n",
    "def display_side_by_side(args):\n",
    "    html_str=''\n",
    "    for df in args:\n",
    "        html_str+=df.to_html()\n",
    "    display_html(html_str.replace('table','table style=\"display:inline;margin-left:50px !important;margin-right: 40px !important\"'),raw=True)"
   ]
  },
  {
   "cell_type": "markdown",
   "id": "c2f4199c-dc14-4d50-9ebb-1f1466b57225",
   "metadata": {},
   "source": [
    "## Loading the dataset"
   ]
  },
  {
   "cell_type": "code",
   "execution_count": 7,
   "id": "b146fa56-35bb-4de1-86aa-eeec5a4493b6",
   "metadata": {},
   "outputs": [],
   "source": [
    "electronics_dataframe = pd.read_csv(\"data/ratings_Electronics.csv\",\n",
    "                             names=['userId', 'productId','Rating','timestamp'])"
   ]
  },
  {
   "cell_type": "code",
   "execution_count": 8,
   "id": "22bf6e40-2594-4791-bf48-51a2d8cde5cf",
   "metadata": {},
   "outputs": [
    {
     "data": {
      "text/html": [
       "<div>\n",
       "<style scoped>\n",
       "    .dataframe tbody tr th:only-of-type {\n",
       "        vertical-align: middle;\n",
       "    }\n",
       "\n",
       "    .dataframe tbody tr th {\n",
       "        vertical-align: top;\n",
       "    }\n",
       "\n",
       "    .dataframe thead th {\n",
       "        text-align: right;\n",
       "    }\n",
       "</style>\n",
       "<table border=\"1\" class=\"dataframe\">\n",
       "  <thead>\n",
       "    <tr style=\"text-align: right;\">\n",
       "      <th></th>\n",
       "      <th>userId</th>\n",
       "      <th>productId</th>\n",
       "      <th>Rating</th>\n",
       "      <th>timestamp</th>\n",
       "    </tr>\n",
       "  </thead>\n",
       "  <tbody>\n",
       "    <tr>\n",
       "      <th>0</th>\n",
       "      <td>AKM1MP6P0OYPR</td>\n",
       "      <td>0132793040</td>\n",
       "      <td>5.0</td>\n",
       "      <td>1365811200</td>\n",
       "    </tr>\n",
       "    <tr>\n",
       "      <th>1</th>\n",
       "      <td>A2CX7LUOHB2NDG</td>\n",
       "      <td>0321732944</td>\n",
       "      <td>5.0</td>\n",
       "      <td>1341100800</td>\n",
       "    </tr>\n",
       "    <tr>\n",
       "      <th>2</th>\n",
       "      <td>A2NWSAGRHCP8N5</td>\n",
       "      <td>0439886341</td>\n",
       "      <td>1.0</td>\n",
       "      <td>1367193600</td>\n",
       "    </tr>\n",
       "    <tr>\n",
       "      <th>3</th>\n",
       "      <td>A2WNBOD3WNDNKT</td>\n",
       "      <td>0439886341</td>\n",
       "      <td>3.0</td>\n",
       "      <td>1374451200</td>\n",
       "    </tr>\n",
       "    <tr>\n",
       "      <th>4</th>\n",
       "      <td>A1GI0U4ZRJA8WN</td>\n",
       "      <td>0439886341</td>\n",
       "      <td>1.0</td>\n",
       "      <td>1334707200</td>\n",
       "    </tr>\n",
       "  </tbody>\n",
       "</table>\n",
       "</div>"
      ],
      "text/plain": [
       "           userId   productId  Rating   timestamp\n",
       "0   AKM1MP6P0OYPR  0132793040     5.0  1365811200\n",
       "1  A2CX7LUOHB2NDG  0321732944     5.0  1341100800\n",
       "2  A2NWSAGRHCP8N5  0439886341     1.0  1367193600\n",
       "3  A2WNBOD3WNDNKT  0439886341     3.0  1374451200\n",
       "4  A1GI0U4ZRJA8WN  0439886341     1.0  1334707200"
      ]
     },
     "execution_count": 8,
     "metadata": {},
     "output_type": "execute_result"
    }
   ],
   "source": [
    "electronics_dataframe.head()"
   ]
  },
  {
   "cell_type": "markdown",
   "id": "bad3f6fb-a20b-46f5-9df7-cc1dffc68069",
   "metadata": {},
   "source": [
    "## Attributes and Information\n",
    "1. userId : Every user identified with a unique id\n",
    "2. productId : Every product identified with a unique id\n",
    "3. Rating : Rating of the corresponding product by the corresponding user\n",
    "4. timestamp : Time of the rating"
   ]
  },
  {
   "cell_type": "markdown",
   "id": "375d2864-b69f-45ce-b249-1e410980b2d7",
   "metadata": {},
   "source": [
    "## Perform EDA on Data"
   ]
  },
  {
   "cell_type": "markdown",
   "id": "35034036-aebb-468c-8bd6-67ba5913f353",
   "metadata": {},
   "source": [
    "#### a. Drop 'timestamp' attribute"
   ]
  },
  {
   "cell_type": "code",
   "execution_count": 9,
   "id": "516ee22b-b7a1-41c3-be4b-e8cb5df0f939",
   "metadata": {},
   "outputs": [],
   "source": [
    "electronics_dataframe.drop('timestamp', axis=1, inplace=True)"
   ]
  },
  {
   "cell_type": "markdown",
   "id": "39d60f14-05fa-4845-a5a8-de44e6dcba13",
   "metadata": {},
   "source": [
    "#### b. Create subset of the original dataset\n",
    "###### Filtering the users who has given 50 or more number of ratings"
   ]
  },
  {
   "cell_type": "code",
   "execution_count": 10,
   "id": "c1564165-c160-49ce-a592-9d1afcd380a3",
   "metadata": {},
   "outputs": [],
   "source": [
    "electronics_groupby_users_Ratings = electronics_dataframe.groupby('userId')['Rating']\n",
    "electronics_groupby_users_Ratings = pd.DataFrame(electronics_groupby_users_Ratings.count())"
   ]
  },
  {
   "cell_type": "code",
   "execution_count": 11,
   "id": "666377c2-8f7c-49bc-a0cf-d9add08851df",
   "metadata": {},
   "outputs": [],
   "source": [
    "user_list_min50_ratings = electronics_groupby_users_Ratings[electronics_groupby_users_Ratings['Rating'] >= 50].index\n",
    "electronics_dataframe =  electronics_dataframe[electronics_dataframe['userId'].isin(user_list_min50_ratings)]"
   ]
  },
  {
   "cell_type": "markdown",
   "id": "3b2ee0b8-3fa9-4de2-8bba-749d845657fb",
   "metadata": {},
   "source": [
    "#### c. Shape of the data"
   ]
  },
  {
   "cell_type": "code",
   "execution_count": 12,
   "id": "6919cfe1-d415-460c-b1ae-4b6282d3eae9",
   "metadata": {},
   "outputs": [
    {
     "name": "stdout",
     "output_type": "stream",
     "text": [
      "The total number of rows : 125871\n",
      "The total number of columns : 3\n"
     ]
    }
   ],
   "source": [
    "print('The total number of rows :', electronics_dataframe.shape[0])\n",
    "print('The total number of columns :', electronics_dataframe.shape[1])"
   ]
  },
  {
   "cell_type": "markdown",
   "id": "f43149e7-dc4e-40d3-b95f-a4f7887c2dec",
   "metadata": {},
   "source": [
    "#### d. Data type of each attribute"
   ]
  },
  {
   "cell_type": "code",
   "execution_count": 13,
   "id": "9e1b647c-4113-470b-8def-7f1e189e72d9",
   "metadata": {},
   "outputs": [
    {
     "name": "stdout",
     "output_type": "stream",
     "text": [
      "<class 'pandas.core.frame.DataFrame'>\n",
      "Int64Index: 125871 entries, 94 to 7824444\n",
      "Data columns (total 3 columns):\n",
      " #   Column     Non-Null Count   Dtype  \n",
      "---  ------     --------------   -----  \n",
      " 0   userId     125871 non-null  object \n",
      " 1   productId  125871 non-null  object \n",
      " 2   Rating     125871 non-null  float64\n",
      "dtypes: float64(1), object(2)\n",
      "memory usage: 3.8+ MB\n"
     ]
    }
   ],
   "source": [
    "electronics_dataframe.info()"
   ]
  },
  {
   "cell_type": "markdown",
   "id": "28f06b38-aee5-44af-ad0d-e44dcb2c4243",
   "metadata": {},
   "source": [
    "#### e. Checking the presence of missing values"
   ]
  },
  {
   "cell_type": "code",
   "execution_count": 14,
   "id": "2c9b9b3b-c6a7-4358-a309-7f9b934870b5",
   "metadata": {},
   "outputs": [
    {
     "data": {
      "text/plain": [
       "userId       0\n",
       "productId    0\n",
       "Rating       0\n",
       "dtype: int64"
      ]
     },
     "metadata": {},
     "output_type": "display_data"
    },
    {
     "name": "stdout",
     "output_type": "stream",
     "text": [
      "===================\n"
     ]
    },
    {
     "data": {
      "text/markdown": [
       "<span style='color:blue'>**CONCLUSION**: As seen from the data above, we conclude there are **\"No Missing\"** values in the data</span>"
      ],
      "text/plain": [
       "<IPython.core.display.Markdown object>"
      ]
     },
     "metadata": {},
     "output_type": "display_data"
    }
   ],
   "source": [
    "display(electronics_dataframe.isna().sum().sort_values())\n",
    "print('===================')\n",
    "printmd('**CONCLUSION**: As seen from the data above, we conclude there are **\"No Missing\"** values in the data', color=\"blue\")"
   ]
  },
  {
   "cell_type": "markdown",
   "id": "a272d639-a7f8-4e0b-8a26-3b9d5c096c21",
   "metadata": {},
   "source": [
    "### f. 5 point summary of numerical attributes"
   ]
  },
  {
   "cell_type": "code",
   "execution_count": 15,
   "id": "a00714c8-4532-4250-9c47-58caa2f35618",
   "metadata": {},
   "outputs": [
    {
     "data": {
      "text/html": [
       "<div>\n",
       "<style scoped>\n",
       "    .dataframe tbody tr th:only-of-type {\n",
       "        vertical-align: middle;\n",
       "    }\n",
       "\n",
       "    .dataframe tbody tr th {\n",
       "        vertical-align: top;\n",
       "    }\n",
       "\n",
       "    .dataframe thead th {\n",
       "        text-align: right;\n",
       "    }\n",
       "</style>\n",
       "<table border=\"1\" class=\"dataframe\">\n",
       "  <thead>\n",
       "    <tr style=\"text-align: right;\">\n",
       "      <th></th>\n",
       "      <th>count</th>\n",
       "      <th>mean</th>\n",
       "      <th>std</th>\n",
       "      <th>min</th>\n",
       "      <th>25%</th>\n",
       "      <th>50%</th>\n",
       "      <th>75%</th>\n",
       "      <th>max</th>\n",
       "    </tr>\n",
       "  </thead>\n",
       "  <tbody>\n",
       "    <tr>\n",
       "      <th>Rating</th>\n",
       "      <td>125871.0</td>\n",
       "      <td>4.261339</td>\n",
       "      <td>1.062144</td>\n",
       "      <td>1.0</td>\n",
       "      <td>4.0</td>\n",
       "      <td>5.0</td>\n",
       "      <td>5.0</td>\n",
       "      <td>5.0</td>\n",
       "    </tr>\n",
       "  </tbody>\n",
       "</table>\n",
       "</div>"
      ],
      "text/plain": [
       "           count      mean       std  min  25%  50%  75%  max\n",
       "Rating  125871.0  4.261339  1.062144  1.0  4.0  5.0  5.0  5.0"
      ]
     },
     "metadata": {},
     "output_type": "display_data"
    }
   ],
   "source": [
    "display(electronics_dataframe[['Rating']].describe().transpose())"
   ]
  },
  {
   "cell_type": "markdown",
   "id": "6d6aba20-c69c-4597-a8e5-833a0ae1b0d8",
   "metadata": {},
   "source": [
    "### g. Unique Users and Products Count"
   ]
  },
  {
   "cell_type": "code",
   "execution_count": 16,
   "id": "fea81cd3-9d2e-4920-ab0a-e08de08d7d80",
   "metadata": {},
   "outputs": [
    {
     "name": "stdout",
     "output_type": "stream",
     "text": [
      "Total unique users in the dataset 1540\n",
      "Total unique products in the dataset 48190\n"
     ]
    }
   ],
   "source": [
    "print('Total unique users in the dataset', electronics_dataframe['userId'].nunique())\n",
    "print('Total unique products in the dataset', electronics_dataframe['productId'].nunique())"
   ]
  },
  {
   "cell_type": "markdown",
   "id": "c02943d1-b64f-48fa-92ab-49d93f759a22",
   "metadata": {},
   "source": [
    "## Data Analysis and Visualization"
   ]
  },
  {
   "cell_type": "markdown",
   "id": "d26d3c24-4d22-4088-8887-ab161af0c410",
   "metadata": {},
   "source": [
    "#### a. Rating Distribution"
   ]
  },
  {
   "cell_type": "code",
   "execution_count": 17,
   "id": "8f13ff56-ffee-40ac-b177-3d4bd378c33e",
   "metadata": {},
   "outputs": [
    {
     "data": {
      "image/png": "[encoded data removed]",
      "text/plain": [
       "<Figure size 720x360 with 1 Axes>"
      ]
     },
     "metadata": {
      "needs_background": "light"
     },
     "output_type": "display_data"
    }
   ],
   "source": [
    "plt.figure(figsize=(10,5))\n",
    "ratings = electronics_dataframe['Rating'].value_counts()\n",
    "sns.barplot(x=ratings.index, y=ratings.values)\n",
    "plt.show()"
   ]
  },
  {
   "cell_type": "markdown",
   "id": "36b74bdd-e88c-4864-8443-27155cdfe689",
   "metadata": {},
   "source": [
    "#### Observations\n",
    "1. Many users have rated 5 as it is shown with the huge spike\n",
    "2. This is followed by rating 4 which also has high number\n",
    "3. Ratings 1, 2, 3 are comparatively less."
   ]
  },
  {
   "cell_type": "code",
   "execution_count": 19,
   "id": "aa3f4705-98a2-4021-9ef8-e439129c55cb",
   "metadata": {},
   "outputs": [],
   "source": [
    "def distplot(figRows,figCols,xSize, ySize, data, features, colors, kde=True, bins=None):\n",
    "    f, axes = plt.subplots(figRows, figCols, figsize=(xSize, ySize))\n",
    "    \n",
    "    features = np.array(features).reshape(figRows, figCols)\n",
    "    colors = np.array(colors).reshape(figRows, figCols)\n",
    "    \n",
    "    for row in range(figRows):\n",
    "        for col in range(figCols):\n",
    "            if (figRows == 1 and figCols == 1) :\n",
    "                axesplt = axes\n",
    "            elif (figRows == 1 and figCols > 1) :\n",
    "                axesplt = axes[col]\n",
    "            elif (figRows > 1 and figCols == 1) :\n",
    "                axesplt = axes[row]\n",
    "            else:\n",
    "                axesplt = axes[row][col]\n",
    "            plot = sns.distplot(data[features[row][col]], color=colors[row][col], bins=bins, ax=axesplt, kde=kde, hist_kws={\"edgecolor\":\"k\"})\n",
    "            plot.set_xlabel(features[row][col],fontsize=20)"
   ]
  },
  {
   "cell_type": "code",
   "execution_count": 20,
   "id": "25a27ae6-2ffe-4e78-86b1-d1e2a7c5cea6",
   "metadata": {},
   "outputs": [
    {
     "data": {
      "image/png": "[encoded data removed]",
      "text/plain": [
       "<Figure size 720x504 with 1 Axes>"
      ]
     },
     "metadata": {
      "needs_background": "light"
     },
     "output_type": "display_data"
    }
   ],
   "source": [
    "distplot(1, 1, 10, 7, data=electronics_dataframe, features=['Rating'], colors=['red'], kde=False)\n"
   ]
  },
  {
   "cell_type": "markdown",
   "id": "51d54173-e84d-4624-ae36-c8f6c0919aed",
   "metadata": {},
   "source": [
    "#### Observations\n",
    "1. Many users have rated 5 as it is shown with the huge spike with a value of more than 70k records.\n",
    "2. This is followed by rating 4 which also has high number with a value of mroe than 30k records.\n",
    "3. More than 10k users have rated 3.\n",
    "4. Rating 1 and 2 have been rated below 10k records."
   ]
  },
  {
   "cell_type": "markdown",
   "id": "2fa5a9e2-2d01-4cdb-8dfe-ac83378e9213",
   "metadata": {},
   "source": [
    "#### b. Top Rating Count Distribution grouped by Products"
   ]
  },
  {
   "cell_type": "code",
   "execution_count": 21,
   "id": "6eb9ce51-cd92-4e45-ae7d-8d93a2d45ba4",
   "metadata": {},
   "outputs": [
    {
     "data": {
      "text/plain": [
       "array([ 1,  2,  4,  6,  5,  8,  3,  7, 12,  9, 17, 16, 10, 13, 21, 19, 11,\n",
       "       18, 14, 30, 15, 28, 23, 29, 24, 22, 25, 20, 26, 27])"
      ]
     },
     "execution_count": 21,
     "metadata": {},
     "output_type": "execute_result"
    }
   ],
   "source": [
    "electronics_groupby_products_Ratings = electronics_dataframe.groupby('productId')['Rating']\n",
    "electronics_groupby_products_Ratings.count().clip(upper=30).unique()\n"
   ]
  },
  {
   "cell_type": "code",
   "execution_count": 22,
   "id": "01637537-cd79-4e09-859c-a44477a818fd",
   "metadata": {},
   "outputs": [],
   "source": [
    "ratings_products = pd.DataFrame(electronics_groupby_products_Ratings.count().clip(upper=30))\n",
    "ratings_products.rename(columns={\"Rating\": \"Rating_Count\"}, inplace=True)"
   ]
  },
  {
   "cell_type": "code",
   "execution_count": 23,
   "id": "513aa9c9-bbda-48b7-810f-726344d08793",
   "metadata": {},
   "outputs": [
    {
     "data": {
      "image/png": "[encoded data removed]",
      "text/plain": [
       "<Figure size 720x504 with 1 Axes>"
      ]
     },
     "metadata": {
      "needs_background": "light"
     },
     "output_type": "display_data"
    }
   ],
   "source": [
    "distplot(1, 1, 10, 7, data=ratings_products, features=['Rating_Count'], colors=['green'], kde=False)"
   ]
  },
  {
   "cell_type": "markdown",
   "id": "1d411f76-3c1f-495e-a2f8-90c8e3e230e9",
   "metadata": {},
   "source": [
    "#### Observations\n",
    "This is a ratings count distribution grouped by all the Products. For the plot perspective, I have clipped the upper limit to 30 which means any value above 30 will be set to it.\n",
    "\n",
    "As it can been seen from the plot, there are many products which were rated only once i.e. only one user have rated. And then the count decreases."
   ]
  },
  {
   "cell_type": "markdown",
   "id": "f40f5bbe-3b04-432e-a2c1-aec5817ad2e2",
   "metadata": {},
   "source": [
    "#### c. Top Rating Count Distribution grouped by Users"
   ]
  },
  {
   "cell_type": "code",
   "execution_count": 24,
   "id": "85b9af77-91c5-4d00-a171-a2543fc423d1",
   "metadata": {},
   "outputs": [
    {
     "data": {
      "text/plain": [
       "array([116, 132,  68,  71,  65,  57,  96,  80, 107, 123,  77, 130,  52,\n",
       "        89, 112,  67,  86,  66,  75, 205,  58,  50, 216,  92,  54,  64,\n",
       "        51, 252,  72,  81,  74,  53,  62,  70, 104, 102,  60,  63, 157,\n",
       "        99,  56,  55,  61, 261, 151,  94,  78, 119,  83,  73, 144, 177,\n",
       "       149, 106,  82,  69, 108, 196,  76, 221, 197, 200, 155, 208, 207,\n",
       "       181, 160, 213,  59, 103,  85,  98, 145, 218,  84, 101,  91, 100,\n",
       "        88, 114,  79,  93, 131, 142, 380,  90,  95, 126, 110, 105,  97,\n",
       "       167, 227, 128, 127, 247, 129, 220, 121,  87, 202, 109, 156, 111,\n",
       "       162, 240, 125, 137, 150, 292, 270, 115, 226, 296, 311, 176, 170,\n",
       "       122, 117, 159, 277, 238, 120, 253, 138, 171, 136, 314, 282, 236,\n",
       "       257, 204, 146, 124, 174, 279, 118, 199, 209, 498, 266, 143, 169,\n",
       "       134, 173, 147, 182, 163, 180, 153, 225, 520, 406, 431, 193, 139,\n",
       "       501, 239, 244, 192, 141, 198, 212, 308, 168, 189])"
      ]
     },
     "execution_count": 24,
     "metadata": {},
     "output_type": "execute_result"
    }
   ],
   "source": [
    "electronics_groupby_users_Ratings = electronics_dataframe.groupby('userId')['Rating']\n",
    "electronics_groupby_users_Ratings.count().clip(lower=50).unique()\n"
   ]
  },
  {
   "cell_type": "code",
   "execution_count": 25,
   "id": "147f0360-21a7-47e1-9e8e-87e4a82fb2e2",
   "metadata": {},
   "outputs": [],
   "source": [
    "rating_users = pd.DataFrame(electronics_groupby_users_Ratings.count().clip(lower=50, upper=300))\n",
    "rating_users.rename(columns={\"Rating\": \"Rating_Count\"}, inplace=True)"
   ]
  },
  {
   "cell_type": "code",
   "execution_count": 26,
   "id": "328d571b-4d8b-4c59-8790-7a511dee91de",
   "metadata": {},
   "outputs": [
    {
     "data": {
      "image/png": "[encoded data removed]",
      "text/plain": [
       "<Figure size 720x504 with 1 Axes>"
      ]
     },
     "metadata": {
      "needs_background": "light"
     },
     "output_type": "display_data"
    }
   ],
   "source": [
    "distplot(1, 1, 10, 7, data=rating_users, features=['Rating_Count'], colors=['orange'], kde=False, bins=50)"
   ]
  },
  {
   "cell_type": "markdown",
   "id": "d9f1d0b6-296a-4a3f-a78b-91712b4cfc93",
   "metadata": {},
   "source": [
    "#### Observations\n",
    "This is a ratings count distribution grouped by all the Users. For the plot perspective, I have clipped the count limit between 50 to 300 which means any value below 50 or above 300 will be set to the respective values.\n",
    "As it can been seen from the plot, there are many users which have rated 50 times or below. Ratings count by users gradually decreases which means few users have rated many products."
   ]
  },
  {
   "cell_type": "markdown",
   "id": "aef49287-2c8c-4984-8146-2acfca92f995",
   "metadata": {},
   "source": [
    "#### d. Mean Rating - Rating Count Distribution grouped by Products"
   ]
  },
  {
   "cell_type": "code",
   "execution_count": 35,
   "id": "4f8d906f-53a8-4287-856a-a6c1d3214891",
   "metadata": {},
   "outputs": [],
   "source": [
    "ratings = pd.DataFrame(electronics_dataframe.groupby('productId')['Rating'].mean())\n",
    "ratings.rename(columns={\"Rating\": \"Rating_Mean\"}, inplace=True)"
   ]
  },
  {
   "cell_type": "code",
   "execution_count": 36,
   "id": "1bb83b23-91c1-43f4-a538-78198af2ac3d",
   "metadata": {},
   "outputs": [],
   "source": [
    "ratings['Rating_Count'] = electronics_dataframe.groupby('productId')['Rating'].count()"
   ]
  },
  {
   "cell_type": "code",
   "execution_count": 37,
   "id": "269c8924-a7ab-4103-b229-f84ad717e7b8",
   "metadata": {},
   "outputs": [],
   "source": [
    "def scatterplot(rowFeature, colFeature, data):\n",
    "    f, axes = plt.subplots(1, 1, figsize=(10, 8))\n",
    "        \n",
    "    plot=sns.scatterplot(x=rowFeature, y=colFeature, data=data, ax=axes)\n",
    "    plot.set_xlabel(rowFeature,fontsize=20)\n",
    "    plot.set_ylabel(colFeature,fontsize=20)            "
   ]
  },
  {
   "cell_type": "code",
   "execution_count": 38,
   "id": "eee59cdb-647a-4d7b-a33b-0ee858ac0f02",
   "metadata": {},
   "outputs": [
    {
     "data": {
      "image/png": "[encoded data removed]",
      "text/plain": [
       "<Figure size 720x576 with 1 Axes>"
      ]
     },
     "metadata": {
      "needs_background": "light"
     },
     "output_type": "display_data"
    }
   ],
   "source": [
    "scatterplot('Rating_Mean', 'Rating_Count', data=ratings)"
   ]
  },
  {
   "cell_type": "markdown",
   "id": "80a0e78b-90f3-4bf6-bb4c-615a3db8ad2a",
   "metadata": {},
   "source": [
    "#### Observations\n",
    "This is a joint plot between Mean rating distribution and Rating Count grouped by all the Products. As shown in the plot, data is clustered between mean rating of 3.5 to 5."
   ]
  },
  {
   "cell_type": "markdown",
   "id": "35746482-181f-4ffb-b918-28c974bd9a45",
   "metadata": {},
   "source": [
    "#### e. Mean Rating Distribution grouped by Users"
   ]
  },
  {
   "cell_type": "code",
   "execution_count": 39,
   "id": "3afdfdce-d1bb-4c2a-9e3c-696c54bf881a",
   "metadata": {},
   "outputs": [
    {
     "data": {
      "image/png": "[encoded data removed]",
      "text/plain": [
       "<Figure size 720x504 with 1 Axes>"
      ]
     },
     "metadata": {
      "needs_background": "light"
     },
     "output_type": "display_data"
    }
   ],
   "source": [
    "ratings = pd.DataFrame(electronics_dataframe.groupby('userId')['Rating'].mean())\n",
    "ratings.rename(columns={\"Rating\": \"Rating_Mean\"}, inplace=True)\n",
    "distplot(1, 1, 10, 7, data=ratings, features=['Rating_Mean'], colors=['brown'], kde=False, bins=50)"
   ]
  },
  {
   "cell_type": "markdown",
   "id": "c49b98a5-c90c-4f7f-8806-e681b91f2879",
   "metadata": {},
   "source": [
    "#### Observations\n",
    "This is a mean rating distribution grouped by all the Users. This looks like slightly left skewed normal distribution.\n",
    "Data is uniformly distribution from rating 3 to 5 with many around 4 to 4.5. Many users have an average rating of around 4.5."
   ]
  },
  {
   "cell_type": "markdown",
   "id": "2bb4f3cb-a790-49f1-9d58-d22532d72809",
   "metadata": {},
   "source": [
    "# Recommender System \n",
    "\n",
    "A recommendation engine is a type of data filtering tool using machine learning algorithms to recommend the most relevant items to a particular user or customer. It operates on the principle of finding patterns in consumer behavior data, which can be collected implicitly or explicitly.\n",
    "\n",
    "Netflix uses a recommendation engine to present viewers with movie and show suggestions. Amazon, on the other hand, uses a recommendation engine to present customers with product recommendations. While each uses one for slightly different purposes, both have the same goal: to drive sales, boost engagement and retention, and deliver more personalized customer experiences.\n",
    "\n",
    "In the past, recommendations would come from a salesperson or friends and family. Today, we have passed this task in the hands, or minds, of algorithms. As a marketing tool, you could say that these machines are well-trained in the art of up-selling and cross-selling"
   ]
  },
  {
   "cell_type": "markdown",
   "id": "a7d36430-005c-4d60-b253-fcfbfc1e0c21",
   "metadata": {},
   "source": [
    "#### Types of recommendations\n",
    "There are majorly six types of recommender systems which work primarily in the Media and Entertainment industry:\n",
    "\n",
    "* Popularity based recommender system\n",
    "* Collaborative recommender system,\n",
    "* Content-based recommender system,\n",
    "* Demographic based recommender system,\n",
    "* Utility based recommender system,\n",
    "* Hybrid recommender system."
   ]
  },
  {
   "cell_type": "markdown",
   "id": "5010a182-7f81-46c6-9a92-4d063fc33ddc",
   "metadata": {},
   "source": [
    "#### a. Popularity Based Recommender Model\n",
    "Popularity based recommendation system works with the trend. It basically uses the items which are in trend right now. For example, if any product which is usually bought by every new user then there are chances that it may suggest that item to the user who just signed up."
   ]
  },
  {
   "cell_type": "code",
   "execution_count": 54,
   "id": "53351e8b-01b6-45af-aede-9b73ca67af2b",
   "metadata": {},
   "outputs": [],
   "source": [
    "from sklearn.metrics import mean_squared_error\n",
    "from math import sqrt\n"
   ]
  },
  {
   "cell_type": "code",
   "execution_count": 40,
   "id": "581ff847-71e6-4c46-80ff-6c03c4db2461",
   "metadata": {},
   "outputs": [],
   "source": [
    "class popularity_based_recommender_model():\n",
    "    def __init__(self, train_data, test_data, user_id, item_id):\n",
    "        self.train_data = train_data\n",
    "        self.test_data = test_data\n",
    "        self.user_id = user_id\n",
    "        self.item_id = item_id\n",
    "        self.popularity_recommendations = None\n",
    "        \n",
    "    #Create the popularity based recommender system model\n",
    "    def fit(self):\n",
    "        #Get a count of user_ids for each unique product as recommendation score\n",
    "        train_data_grouped = train_data.groupby([self.item_id]).agg({self.user_id: 'count'}).reset_index()\n",
    "        train_data_grouped.rename(columns = {'userId': 'score'},inplace=True)\n",
    "    \n",
    "        #Sort the products based upon recommendation score\n",
    "        train_data_sort = train_data_grouped.sort_values(['score', self.item_id], ascending = [0,1])\n",
    "    \n",
    "        #Generate a recommendation rank based upon score\n",
    "        train_data_sort['Rank'] = train_data_sort['score'].rank(ascending=0, method='first')\n",
    "        \n",
    "        #Get the top 10 recommendations\n",
    "        self.popularity_recommendations = train_data_sort.head(20)\n",
    "\n",
    "    #Use the popularity based recommender system model to make recommendations\n",
    "    def recommend(self, user_id, n=5):    \n",
    "        user_recommendations = self.popularity_recommendations\n",
    "        \n",
    "        #Filter products that are not rated by the user\n",
    "        products_already_rated_by_user = self.train_data[self.train_data[self.user_id] == user_id][self.item_id]        \n",
    "        user_recommendations = user_recommendations[~user_recommendations[self.item_id].isin(products_already_rated_by_user)]\n",
    "        \n",
    "        #Add user_id column for which the recommendations are being generated\n",
    "        user_recommendations['user_id'] = user_id\n",
    "    \n",
    "        #Bring user_id column to the front\n",
    "        cols = user_recommendations.columns.tolist()\n",
    "        cols = cols[-1:] + cols[:-1]\n",
    "        user_recommendations = user_recommendations[cols].head(n)     \n",
    "        self.plot(user_recommendations)\n",
    "        return user_recommendations\n",
    "    \n",
    "    def plot(self, user_recommendations):\n",
    "        f, axes = plt.subplots(1, 2, figsize=(20, 8))\n",
    "        cplot1 = sns.barplot(x='Rank', y='score', data=user_recommendations, hue='Rank', ax=axes[0])\n",
    "        cplot1.set_xlabel('Rank',fontsize=20)\n",
    "        cplot1.set_ylabel('score',fontsize=20)            \n",
    "        cplot2 = sns.pointplot(x='Rank', y='score', data=user_recommendations, hue='Rank', ax=axes[1])\n",
    "        cplot2.set_xlabel('Rank',fontsize=20)\n",
    "        cplot2.set_ylabel('score',fontsize=20)\n",
    "        \n",
    "    def predict_evaluate(self):        \n",
    "        ratings = pd.DataFrame(self.train_data.groupby(self.item_id)['Rating'].mean())\n",
    "        \n",
    "        pred_ratings = [];            \n",
    "        for data in self.test_data.values:\n",
    "            if(data[1] in (ratings.index)):\n",
    "                pred_ratings.append(ratings.loc[data[1]])\n",
    "            else:\n",
    "                pred_ratings.append(0)\n",
    "        \n",
    "        mse = mean_squared_error(self.test_data['Rating'], pred_ratings)\n",
    "        rmse = sqrt(mse)\n",
    "        return rmse\n"
   ]
  },
  {
   "cell_type": "code",
   "execution_count": 43,
   "id": "d1e95923-af2f-46f0-9a01-b6a0ccf906a0",
   "metadata": {},
   "outputs": [],
   "source": [
    "from sklearn.model_selection import train_test_split"
   ]
  },
  {
   "cell_type": "code",
   "execution_count": 44,
   "id": "328343aa-95f6-47a9-a63c-74675ca73714",
   "metadata": {},
   "outputs": [
    {
     "data": {
      "text/markdown": [
       "<span style='color:brown'>**Training and Testing Set Distribution**</span>"
      ],
      "text/plain": [
       "<IPython.core.display.Markdown object>"
      ]
     },
     "metadata": {},
     "output_type": "display_data"
    },
    {
     "name": "stdout",
     "output_type": "stream",
     "text": [
      "Training set has 88109 rows and 3 columns\n",
      "Testing set has 37762 rows and 3 columns\n"
     ]
    }
   ],
   "source": [
    "train_data, test_data = train_test_split(electronics_dataframe, test_size =.30, random_state=10)\n",
    "printmd('**Training and Testing Set Distribution**', color='brown')\n",
    "\n",
    "print(f'Training set has {train_data.shape[0]} rows and {train_data.shape[1]} columns')\n",
    "print(f'Testing set has {test_data.shape[0]} rows and {test_data.shape[1]} columns')"
   ]
  },
  {
   "cell_type": "code",
   "execution_count": 45,
   "id": "6bc21f6d-c25f-427c-a316-a9fa99aa8b99",
   "metadata": {},
   "outputs": [],
   "source": [
    "pr = popularity_based_recommender_model(train_data=train_data, \n",
    "                                        test_data=test_data, user_id='userId', \n",
    "                                        item_id='productId')"
   ]
  },
  {
   "cell_type": "code",
   "execution_count": 46,
   "id": "e76eb909-09bf-4896-893a-652721f91c5b",
   "metadata": {},
   "outputs": [],
   "source": [
    "pr.fit()"
   ]
  },
  {
   "cell_type": "code",
   "execution_count": 47,
   "id": "f9f54504-2b1e-4bfb-bc7d-686a9cb98299",
   "metadata": {},
   "outputs": [
    {
     "data": {
      "text/html": [
       "<div>\n",
       "<style scoped>\n",
       "    .dataframe tbody tr th:only-of-type {\n",
       "        vertical-align: middle;\n",
       "    }\n",
       "\n",
       "    .dataframe tbody tr th {\n",
       "        vertical-align: top;\n",
       "    }\n",
       "\n",
       "    .dataframe thead th {\n",
       "        text-align: right;\n",
       "    }\n",
       "</style>\n",
       "<table border=\"1\" class=\"dataframe\">\n",
       "  <thead>\n",
       "    <tr style=\"text-align: right;\">\n",
       "      <th></th>\n",
       "      <th>user_id</th>\n",
       "      <th>productId</th>\n",
       "      <th>score</th>\n",
       "      <th>Rank</th>\n",
       "    </tr>\n",
       "  </thead>\n",
       "  <tbody>\n",
       "    <tr>\n",
       "      <th>30874</th>\n",
       "      <td>ANTN61S4L7WG9</td>\n",
       "      <td>B0088CJT4U</td>\n",
       "      <td>142</td>\n",
       "      <td>1.0</td>\n",
       "    </tr>\n",
       "    <tr>\n",
       "      <th>19570</th>\n",
       "      <td>ANTN61S4L7WG9</td>\n",
       "      <td>B003ES5ZUU</td>\n",
       "      <td>134</td>\n",
       "      <td>2.0</td>\n",
       "    </tr>\n",
       "    <tr>\n",
       "      <th>30273</th>\n",
       "      <td>ANTN61S4L7WG9</td>\n",
       "      <td>B007WTAJTO</td>\n",
       "      <td>126</td>\n",
       "      <td>3.0</td>\n",
       "    </tr>\n",
       "    <tr>\n",
       "      <th>30557</th>\n",
       "      <td>ANTN61S4L7WG9</td>\n",
       "      <td>B00829THK0</td>\n",
       "      <td>103</td>\n",
       "      <td>6.0</td>\n",
       "    </tr>\n",
       "    <tr>\n",
       "      <th>17292</th>\n",
       "      <td>ANTN61S4L7WG9</td>\n",
       "      <td>B002R5AM7C</td>\n",
       "      <td>97</td>\n",
       "      <td>8.0</td>\n",
       "    </tr>\n",
       "  </tbody>\n",
       "</table>\n",
       "</div>"
      ],
      "text/plain": [
       "             user_id   productId  score  Rank\n",
       "30874  ANTN61S4L7WG9  B0088CJT4U    142   1.0\n",
       "19570  ANTN61S4L7WG9  B003ES5ZUU    134   2.0\n",
       "30273  ANTN61S4L7WG9  B007WTAJTO    126   3.0\n",
       "30557  ANTN61S4L7WG9  B00829THK0    103   6.0\n",
       "17292  ANTN61S4L7WG9  B002R5AM7C     97   8.0"
      ]
     },
     "execution_count": 47,
     "metadata": {},
     "output_type": "execute_result"
    },
    {
     "data": {
      "image/png": "[encoded data removed]",
      "text/plain": [
       "<Figure size 1440x576 with 2 Axes>"
      ]
     },
     "metadata": {
      "needs_background": "light"
     },
     "output_type": "display_data"
    }
   ],
   "source": [
    "result_pop_user1 = pr.recommend('ANTN61S4L7WG9')\n",
    "result_pop_user1"
   ]
  },
  {
   "cell_type": "code",
   "execution_count": 48,
   "id": "e0aa910a-78f9-4d8a-9a40-72dd42ef3b89",
   "metadata": {},
   "outputs": [
    {
     "data": {
      "text/html": [
       "<div>\n",
       "<style scoped>\n",
       "    .dataframe tbody tr th:only-of-type {\n",
       "        vertical-align: middle;\n",
       "    }\n",
       "\n",
       "    .dataframe tbody tr th {\n",
       "        vertical-align: top;\n",
       "    }\n",
       "\n",
       "    .dataframe thead th {\n",
       "        text-align: right;\n",
       "    }\n",
       "</style>\n",
       "<table border=\"1\" class=\"dataframe\">\n",
       "  <thead>\n",
       "    <tr style=\"text-align: right;\">\n",
       "      <th></th>\n",
       "      <th>user_id</th>\n",
       "      <th>productId</th>\n",
       "      <th>score</th>\n",
       "      <th>Rank</th>\n",
       "    </tr>\n",
       "  </thead>\n",
       "  <tbody>\n",
       "    <tr>\n",
       "      <th>30874</th>\n",
       "      <td>AYNAH993VDECT</td>\n",
       "      <td>B0088CJT4U</td>\n",
       "      <td>142</td>\n",
       "      <td>1.0</td>\n",
       "    </tr>\n",
       "    <tr>\n",
       "      <th>19570</th>\n",
       "      <td>AYNAH993VDECT</td>\n",
       "      <td>B003ES5ZUU</td>\n",
       "      <td>134</td>\n",
       "      <td>2.0</td>\n",
       "    </tr>\n",
       "    <tr>\n",
       "      <th>30273</th>\n",
       "      <td>AYNAH993VDECT</td>\n",
       "      <td>B007WTAJTO</td>\n",
       "      <td>126</td>\n",
       "      <td>3.0</td>\n",
       "    </tr>\n",
       "    <tr>\n",
       "      <th>8700</th>\n",
       "      <td>AYNAH993VDECT</td>\n",
       "      <td>B000N99BBC</td>\n",
       "      <td>117</td>\n",
       "      <td>4.0</td>\n",
       "    </tr>\n",
       "    <tr>\n",
       "      <th>30561</th>\n",
       "      <td>AYNAH993VDECT</td>\n",
       "      <td>B00829TIEK</td>\n",
       "      <td>104</td>\n",
       "      <td>5.0</td>\n",
       "    </tr>\n",
       "  </tbody>\n",
       "</table>\n",
       "</div>"
      ],
      "text/plain": [
       "             user_id   productId  score  Rank\n",
       "30874  AYNAH993VDECT  B0088CJT4U    142   1.0\n",
       "19570  AYNAH993VDECT  B003ES5ZUU    134   2.0\n",
       "30273  AYNAH993VDECT  B007WTAJTO    126   3.0\n",
       "8700   AYNAH993VDECT  B000N99BBC    117   4.0\n",
       "30561  AYNAH993VDECT  B00829TIEK    104   5.0"
      ]
     },
     "execution_count": 48,
     "metadata": {},
     "output_type": "execute_result"
    },
    {
     "data": {
      "image/png": "[encoded data removed]",
      "text/plain": [
       "<Figure size 1440x576 with 2 Axes>"
      ]
     },
     "metadata": {
      "needs_background": "light"
     },
     "output_type": "display_data"
    }
   ],
   "source": [
    "result_pop_user2 = pr.recommend('AYNAH993VDECT')\n",
    "result_pop_user2\n"
   ]
  },
  {
   "cell_type": "code",
   "execution_count": 56,
   "id": "c843abdf-52e0-4d1b-8590-5d2600e24ae3",
   "metadata": {},
   "outputs": [
    {
     "data": {
      "text/html": [
       "<div>\n",
       "<style scoped>\n",
       "    .dataframe tbody tr th:only-of-type {\n",
       "        vertical-align: middle;\n",
       "    }\n",
       "\n",
       "    .dataframe tbody tr th {\n",
       "        vertical-align: top;\n",
       "    }\n",
       "\n",
       "    .dataframe thead th {\n",
       "        text-align: right;\n",
       "    }\n",
       "</style>\n",
       "<table border=\"1\" class=\"dataframe\">\n",
       "  <thead>\n",
       "    <tr style=\"text-align: right;\">\n",
       "      <th></th>\n",
       "      <th>user_id</th>\n",
       "      <th>productId</th>\n",
       "      <th>score</th>\n",
       "      <th>Rank</th>\n",
       "    </tr>\n",
       "  </thead>\n",
       "  <tbody>\n",
       "    <tr>\n",
       "      <th>30874</th>\n",
       "      <td>A18YMFFJW974QS</td>\n",
       "      <td>B0088CJT4U</td>\n",
       "      <td>142</td>\n",
       "      <td>1.0</td>\n",
       "    </tr>\n",
       "    <tr>\n",
       "      <th>19570</th>\n",
       "      <td>A18YMFFJW974QS</td>\n",
       "      <td>B003ES5ZUU</td>\n",
       "      <td>134</td>\n",
       "      <td>2.0</td>\n",
       "    </tr>\n",
       "    <tr>\n",
       "      <th>30273</th>\n",
       "      <td>A18YMFFJW974QS</td>\n",
       "      <td>B007WTAJTO</td>\n",
       "      <td>126</td>\n",
       "      <td>3.0</td>\n",
       "    </tr>\n",
       "    <tr>\n",
       "      <th>8700</th>\n",
       "      <td>A18YMFFJW974QS</td>\n",
       "      <td>B000N99BBC</td>\n",
       "      <td>117</td>\n",
       "      <td>4.0</td>\n",
       "    </tr>\n",
       "    <tr>\n",
       "      <th>30561</th>\n",
       "      <td>A18YMFFJW974QS</td>\n",
       "      <td>B00829TIEK</td>\n",
       "      <td>104</td>\n",
       "      <td>5.0</td>\n",
       "    </tr>\n",
       "  </tbody>\n",
       "</table>\n",
       "</div>"
      ],
      "text/plain": [
       "              user_id   productId  score  Rank\n",
       "30874  A18YMFFJW974QS  B0088CJT4U    142   1.0\n",
       "19570  A18YMFFJW974QS  B003ES5ZUU    134   2.0\n",
       "30273  A18YMFFJW974QS  B007WTAJTO    126   3.0\n",
       "8700   A18YMFFJW974QS  B000N99BBC    117   4.0\n",
       "30561  A18YMFFJW974QS  B00829TIEK    104   5.0"
      ]
     },
     "execution_count": 56,
     "metadata": {},
     "output_type": "execute_result"
    },
    {
     "data": {
      "image/png": "[encoded data removed]",
      "text/plain": [
       "<Figure size 1440x576 with 2 Axes>"
      ]
     },
     "metadata": {
      "needs_background": "light"
     },
     "output_type": "display_data"
    }
   ],
   "source": [
    "result_pop_user3 = pr.recommend('A18YMFFJW974QS')\n",
    "result_pop_user3"
   ]
  },
  {
   "cell_type": "code",
   "execution_count": 57,
   "id": "ac561215-8f66-4f74-85c6-7fc4806721f6",
   "metadata": {},
   "outputs": [
    {
     "data": {
      "text/html": [
       "<table style=\"display:inline;margin-left:50px !important;margin-right: 40px !important\" border=\"1\" class=\"dataframe\">\n",
       "  <thead>\n",
       "    <tr style=\"text-align: right;\">\n",
       "      <th></th>\n",
       "      <th>user_id</th>\n",
       "      <th>productId</th>\n",
       "      <th>score</th>\n",
       "      <th>Rank</th>\n",
       "    </tr>\n",
       "  </thead>\n",
       "  <tbody>\n",
       "    <tr>\n",
       "      <th>30874</th>\n",
       "      <td>ANTN61S4L7WG9</td>\n",
       "      <td>B0088CJT4U</td>\n",
       "      <td>142</td>\n",
       "      <td>1.0</td>\n",
       "    </tr>\n",
       "    <tr>\n",
       "      <th>19570</th>\n",
       "      <td>ANTN61S4L7WG9</td>\n",
       "      <td>B003ES5ZUU</td>\n",
       "      <td>134</td>\n",
       "      <td>2.0</td>\n",
       "    </tr>\n",
       "    <tr>\n",
       "      <th>30273</th>\n",
       "      <td>ANTN61S4L7WG9</td>\n",
       "      <td>B007WTAJTO</td>\n",
       "      <td>126</td>\n",
       "      <td>3.0</td>\n",
       "    </tr>\n",
       "    <tr>\n",
       "      <th>30557</th>\n",
       "      <td>ANTN61S4L7WG9</td>\n",
       "      <td>B00829THK0</td>\n",
       "      <td>103</td>\n",
       "      <td>6.0</td>\n",
       "    </tr>\n",
       "    <tr>\n",
       "      <th>17292</th>\n",
       "      <td>ANTN61S4L7WG9</td>\n",
       "      <td>B002R5AM7C</td>\n",
       "      <td>97</td>\n",
       "      <td>8.0</td>\n",
       "    </tr>\n",
       "  </tbody>\n",
       "</table style=\"display:inline;margin-left:50px !important;margin-right: 40px !important\"><table style=\"display:inline;margin-left:50px !important;margin-right: 40px !important\" border=\"1\" class=\"dataframe\">\n",
       "  <thead>\n",
       "    <tr style=\"text-align: right;\">\n",
       "      <th></th>\n",
       "      <th>user_id</th>\n",
       "      <th>productId</th>\n",
       "      <th>score</th>\n",
       "      <th>Rank</th>\n",
       "    </tr>\n",
       "  </thead>\n",
       "  <tbody>\n",
       "    <tr>\n",
       "      <th>30874</th>\n",
       "      <td>AYNAH993VDECT</td>\n",
       "      <td>B0088CJT4U</td>\n",
       "      <td>142</td>\n",
       "      <td>1.0</td>\n",
       "    </tr>\n",
       "    <tr>\n",
       "      <th>19570</th>\n",
       "      <td>AYNAH993VDECT</td>\n",
       "      <td>B003ES5ZUU</td>\n",
       "      <td>134</td>\n",
       "      <td>2.0</td>\n",
       "    </tr>\n",
       "    <tr>\n",
       "      <th>30273</th>\n",
       "      <td>AYNAH993VDECT</td>\n",
       "      <td>B007WTAJTO</td>\n",
       "      <td>126</td>\n",
       "      <td>3.0</td>\n",
       "    </tr>\n",
       "    <tr>\n",
       "      <th>8700</th>\n",
       "      <td>AYNAH993VDECT</td>\n",
       "      <td>B000N99BBC</td>\n",
       "      <td>117</td>\n",
       "      <td>4.0</td>\n",
       "    </tr>\n",
       "    <tr>\n",
       "      <th>30561</th>\n",
       "      <td>AYNAH993VDECT</td>\n",
       "      <td>B00829TIEK</td>\n",
       "      <td>104</td>\n",
       "      <td>5.0</td>\n",
       "    </tr>\n",
       "  </tbody>\n",
       "</table style=\"display:inline;margin-left:50px !important;margin-right: 40px !important\"><table style=\"display:inline;margin-left:50px !important;margin-right: 40px !important\" border=\"1\" class=\"dataframe\">\n",
       "  <thead>\n",
       "    <tr style=\"text-align: right;\">\n",
       "      <th></th>\n",
       "      <th>user_id</th>\n",
       "      <th>productId</th>\n",
       "      <th>score</th>\n",
       "      <th>Rank</th>\n",
       "    </tr>\n",
       "  </thead>\n",
       "  <tbody>\n",
       "    <tr>\n",
       "      <th>30874</th>\n",
       "      <td>A18YMFFJW974QS</td>\n",
       "      <td>B0088CJT4U</td>\n",
       "      <td>142</td>\n",
       "      <td>1.0</td>\n",
       "    </tr>\n",
       "    <tr>\n",
       "      <th>19570</th>\n",
       "      <td>A18YMFFJW974QS</td>\n",
       "      <td>B003ES5ZUU</td>\n",
       "      <td>134</td>\n",
       "      <td>2.0</td>\n",
       "    </tr>\n",
       "    <tr>\n",
       "      <th>30273</th>\n",
       "      <td>A18YMFFJW974QS</td>\n",
       "      <td>B007WTAJTO</td>\n",
       "      <td>126</td>\n",
       "      <td>3.0</td>\n",
       "    </tr>\n",
       "    <tr>\n",
       "      <th>8700</th>\n",
       "      <td>A18YMFFJW974QS</td>\n",
       "      <td>B000N99BBC</td>\n",
       "      <td>117</td>\n",
       "      <td>4.0</td>\n",
       "    </tr>\n",
       "    <tr>\n",
       "      <th>30561</th>\n",
       "      <td>A18YMFFJW974QS</td>\n",
       "      <td>B00829TIEK</td>\n",
       "      <td>104</td>\n",
       "      <td>5.0</td>\n",
       "    </tr>\n",
       "  </tbody>\n",
       "</table style=\"display:inline;margin-left:50px !important;margin-right: 40px !important\">"
      ]
     },
     "metadata": {},
     "output_type": "display_data"
    }
   ],
   "source": [
    "display_side_by_side([result_pop_user1, result_pop_user2,result_pop_user3])\n"
   ]
  },
  {
   "cell_type": "code",
   "execution_count": 55,
   "id": "ebc16603-580a-4dd1-b351-75060a08e69d",
   "metadata": {},
   "outputs": [
    {
     "data": {
      "text/plain": [
       "2.5098939142231482"
      ]
     },
     "execution_count": 55,
     "metadata": {},
     "output_type": "execute_result"
    }
   ],
   "source": [
    "pr.predict_evaluate()\n"
   ]
  },
  {
   "cell_type": "markdown",
   "id": "a1684214-3079-40c9-98a3-a795e37beeef",
   "metadata": {},
   "source": [
    "#### Observations\n",
    "Since this is a popularity based recommender model, we are getting same result for all three users i.e. the model is recommending same products for all the users."
   ]
  },
  {
   "cell_type": "markdown",
   "id": "25906679-18a6-485b-93e1-236ebd593e6c",
   "metadata": {},
   "source": [
    "### b. Collaborative Filtering Recommender Model using SURPRISE Library\n",
    "Collaborative filtering is a method of making predictions about the interests of user by analysing the taste of users which are similar to the said user. The idea of filtering patterns by collaborating multiple viewpoints is why it is called collaborative filtering."
   ]
  },
  {
   "cell_type": "code",
   "execution_count": 78,
   "id": "0da0245d-6d35-485b-a922-bd1f5da633bc",
   "metadata": {},
   "outputs": [],
   "source": [
    "reader = Reader()\n",
    "surprise_data = Dataset.load_from_df(electronics_dataframe, reader)"
   ]
  },
  {
   "cell_type": "code",
   "execution_count": 60,
   "id": "9228f7b0-20f0-4c13-81df-7f86c9d9db83",
   "metadata": {},
   "outputs": [],
   "source": [
    "from surprise.model_selection import train_test_split\n",
    "trainset, testset = train_test_split(surprise_data, test_size=.3, random_state=10)"
   ]
  },
  {
   "cell_type": "code",
   "execution_count": 61,
   "id": "ad17523a-3d13-4183-9174-7691f9a42b8f",
   "metadata": {},
   "outputs": [],
   "source": [
    "from collections import defaultdict\n",
    "\n",
    "def get_top_n(predictions, n=10):\n",
    "    # First map the predictions to each user.\n",
    "    top_n = defaultdict(list)\n",
    "    for uid, iid, true_r, est, _ in predictions:\n",
    "        top_n[uid].append((iid, est))\n",
    "\n",
    "    # Then sort the predictions for each user and retrieve the k highest ones.\n",
    "    for uid, user_ratings in top_n.items():\n",
    "        user_ratings.sort(key=lambda x: x[1], reverse=True)\n",
    "        top_n[uid] = user_ratings[:n]\n",
    "\n",
    "    return top_n"
   ]
  },
  {
   "cell_type": "code",
   "execution_count": 62,
   "id": "56d9ec5d-9038-4a10-8f23-1e9586442f22",
   "metadata": {},
   "outputs": [],
   "source": [
    "class collab_filtering_based_recommender_model():\n",
    "    def __init__(self, model, trainset, testset, data):\n",
    "        self.model = model\n",
    "        self.trainset = trainset\n",
    "        self.testset = testset\n",
    "        self.data = data\n",
    "        self.pred_test = None\n",
    "        self.recommendations = None\n",
    "        self.top_n = None\n",
    "        self.recommenddf = None\n",
    "\n",
    "    def fit_and_predict(self):        \n",
    "        printmd('**Fitting the train data...**', color='brown')\n",
    "        self.model.fit(self.trainset)       \n",
    "\n",
    "        printmd('**Predicting the test data...**', color='brown')\n",
    "        self.pred_test = self.model.test(self.testset)        \n",
    "        rmse = round(accuracy.rmse(self.pred_test), 3)\n",
    "        printmd('**RMSE for the predicted result is ' + str(rmse) + '**', color='brown')   \n",
    "        \n",
    "        self.top_n = get_top_n(self.pred_test)\n",
    "        self.recommenddf = pd.DataFrame(columns=['userId', 'productId', 'Rating'])\n",
    "        for item in self.top_n:\n",
    "            subdf = pd.DataFrame(self.top_n[item], columns=['productId', 'Rating'])\n",
    "            subdf['userId'] = item\n",
    "            cols = subdf.columns.tolist()\n",
    "            cols = cols[-1:] + cols[:-1]\n",
    "            subdf = subdf[cols]        \n",
    "            self.recommenddf = pd.concat([self.recommenddf, subdf], axis = 0)        \n",
    "        return rmse\n",
    "        \n",
    "    def cross_validate(self):\n",
    "        printmd('**Cross Validating the data...**', color='brown')\n",
    "        cv_result = cross_validate(self.model, self.data, n_jobs=-1)\n",
    "        cv_result = round(cv_result['test_rmse'].mean(),3)\n",
    "        printmd('**Mean CV RMSE is ' + str(cv_result)  + '**', color='brown')\n",
    "        return cv_result\n",
    "\n",
    "    def recommend(self, user_id, n=5):\n",
    "        printmd('**Recommending top ' + str(n)+ ' products for userid : ' + user_id + ' ...**', color='brown')\n",
    "        df = self.recommenddf[self.recommenddf['userId'] == user_id].head(n)\n",
    "        display(df)\n",
    "        return df"
   ]
  },
  {
   "cell_type": "code",
   "execution_count": 63,
   "id": "66650bfd-2a74-4e08-ba8e-9745c67361ed",
   "metadata": {},
   "outputs": [],
   "source": [
    "from surprise.model_selection import RandomizedSearchCV\n",
    "\n",
    "def find_best_model(model, parameters,data):\n",
    "    clf = RandomizedSearchCV(model, parameters, n_jobs=-1, measures=['rmse'])\n",
    "    clf.fit(data)             \n",
    "    print(clf.best_score)\n",
    "    print(clf.best_params)\n",
    "    print(clf.best_estimator)\n",
    "    return clf"
   ]
  },
  {
   "cell_type": "markdown",
   "id": "ad71818e-208c-4441-a5f2-09bbcfba8b21",
   "metadata": {},
   "source": [
    "### KNN With Means - Memory Based Collaborative Filtering\n",
    "\n",
    "#### User-User Collaborative Filtering\n",
    "\n",
    "To find the rating R that a user U would give to an item I, the approach includes:\n",
    "\n",
    "Finding users similar to U who have rated the item I\n",
    "Calculating the rating R based the ratings of users found in the previous step\n",
    "Here we are using KNN with means to remove the bias by taking into account the mean ratings of each user."
   ]
  },
  {
   "cell_type": "markdown",
   "id": "a8d0bc91-938d-4573-ab84-f4613f323cc6",
   "metadata": {},
   "source": [
    "#### Find optimal model using RandomizedSearchCV"
   ]
  },
  {
   "cell_type": "code",
   "execution_count": 64,
   "id": "e8ca3eab-4331-47ca-b4e7-bbf6518d3e63",
   "metadata": {},
   "outputs": [
    {
     "name": "stdout",
     "output_type": "stream",
     "text": [
      "{'rmse': 1.034456050638283}\n",
      "{'rmse': {'k': 39, 'sim_options': {'name': 'pearson', 'min_support': 5, 'user_based': True}}}\n",
      "{'rmse': <surprise.prediction_algorithms.knns.KNNWithMeans object at 0x7fad4e6446d0>}\n"
     ]
    }
   ],
   "source": [
    "sim_options = {\n",
    "    \"name\": [\"msd\", \"cosine\", \"pearson\", \"pearson_baseline\"],\n",
    "    \"min_support\": [3, 4, 5],\n",
    "    \"user_based\": [True],\n",
    "}\n",
    "params = { 'k': range(30,50,1), 'sim_options': sim_options}\n",
    "clf = find_best_model(KNNWithMeans, params, surprise_data)"
   ]
  },
  {
   "cell_type": "markdown",
   "id": "11a425b8-504b-476c-b877-612ad82742ef",
   "metadata": {},
   "source": [
    "#### Initialized the model"
   ]
  },
  {
   "cell_type": "code",
   "execution_count": 65,
   "id": "32fc6198-36d7-461c-86bf-50a76b62b3da",
   "metadata": {},
   "outputs": [],
   "source": [
    "knnwithmeans = clf.best_estimator['rmse']\n",
    "col_fil_knnwithmeans = collab_filtering_based_recommender_model(knnwithmeans, trainset, testset, surprise_data)"
   ]
  },
  {
   "cell_type": "markdown",
   "id": "10df7425-d791-48ed-b630-dac5a6bb55e5",
   "metadata": {},
   "source": [
    "#### Fit and Predict"
   ]
  },
  {
   "cell_type": "code",
   "execution_count": 66,
   "id": "4711b754-546b-4ded-a9e2-3348735e27e6",
   "metadata": {},
   "outputs": [
    {
     "data": {
      "text/markdown": [
       "<span style='color:brown'>**Fitting the train data...**</span>"
      ],
      "text/plain": [
       "<IPython.core.display.Markdown object>"
      ]
     },
     "metadata": {},
     "output_type": "display_data"
    },
    {
     "name": "stdout",
     "output_type": "stream",
     "text": [
      "Computing the pearson similarity matrix...\n",
      "Done computing similarity matrix.\n"
     ]
    },
    {
     "data": {
      "text/markdown": [
       "<span style='color:brown'>**Predicting the test data...**</span>"
      ],
      "text/plain": [
       "<IPython.core.display.Markdown object>"
      ]
     },
     "metadata": {},
     "output_type": "display_data"
    },
    {
     "name": "stdout",
     "output_type": "stream",
     "text": [
      "RMSE: 1.0417\n"
     ]
    },
    {
     "data": {
      "text/markdown": [
       "<span style='color:brown'>**RMSE for the predicted result is 1.042**</span>"
      ],
      "text/plain": [
       "<IPython.core.display.Markdown object>"
      ]
     },
     "metadata": {},
     "output_type": "display_data"
    }
   ],
   "source": [
    "knnwithmeans_rmse = col_fil_knnwithmeans.fit_and_predict()"
   ]
  },
  {
   "cell_type": "markdown",
   "id": "61a21ea5-25c4-4aed-8a5a-c093bcf89180",
   "metadata": {},
   "source": [
    "#### Cross Validate the model"
   ]
  },
  {
   "cell_type": "code",
   "execution_count": 67,
   "id": "f745c7dc-a229-4526-9e0a-6d4b17249bd0",
   "metadata": {},
   "outputs": [
    {
     "data": {
      "text/markdown": [
       "<span style='color:brown'>**Cross Validating the data...**</span>"
      ],
      "text/plain": [
       "<IPython.core.display.Markdown object>"
      ]
     },
     "metadata": {},
     "output_type": "display_data"
    },
    {
     "data": {
      "text/markdown": [
       "<span style='color:brown'>**Mean CV RMSE is 1.036**</span>"
      ],
      "text/plain": [
       "<IPython.core.display.Markdown object>"
      ]
     },
     "metadata": {},
     "output_type": "display_data"
    }
   ],
   "source": [
    "knnwithmeans_cv_rmse = col_fil_knnwithmeans.cross_validate()\n"
   ]
  },
  {
   "cell_type": "markdown",
   "id": "c5743c8f-699d-4cb3-a147-836ce3109a69",
   "metadata": {},
   "source": [
    "#### Test the model"
   ]
  },
  {
   "cell_type": "code",
   "execution_count": 68,
   "id": "81cb2249-4abd-4f89-b2ca-72b4eb407467",
   "metadata": {},
   "outputs": [
    {
     "data": {
      "text/markdown": [
       "<span style='color:brown'>**Recommending top 5 products for userid : ANTN61S4L7WG9 ...**</span>"
      ],
      "text/plain": [
       "<IPython.core.display.Markdown object>"
      ]
     },
     "metadata": {},
     "output_type": "display_data"
    },
    {
     "data": {
      "text/html": [
       "<div>\n",
       "<style scoped>\n",
       "    .dataframe tbody tr th:only-of-type {\n",
       "        vertical-align: middle;\n",
       "    }\n",
       "\n",
       "    .dataframe tbody tr th {\n",
       "        vertical-align: top;\n",
       "    }\n",
       "\n",
       "    .dataframe thead th {\n",
       "        text-align: right;\n",
       "    }\n",
       "</style>\n",
       "<table border=\"1\" class=\"dataframe\">\n",
       "  <thead>\n",
       "    <tr style=\"text-align: right;\">\n",
       "      <th></th>\n",
       "      <th>userId</th>\n",
       "      <th>productId</th>\n",
       "      <th>Rating</th>\n",
       "    </tr>\n",
       "  </thead>\n",
       "  <tbody>\n",
       "    <tr>\n",
       "      <th>0</th>\n",
       "      <td>ANTN61S4L7WG9</td>\n",
       "      <td>B009Z7KMUM</td>\n",
       "      <td>5.0</td>\n",
       "    </tr>\n",
       "    <tr>\n",
       "      <th>1</th>\n",
       "      <td>ANTN61S4L7WG9</td>\n",
       "      <td>B004CLYEDC</td>\n",
       "      <td>5.0</td>\n",
       "    </tr>\n",
       "    <tr>\n",
       "      <th>2</th>\n",
       "      <td>ANTN61S4L7WG9</td>\n",
       "      <td>B0099SMFVQ</td>\n",
       "      <td>4.750906</td>\n",
       "    </tr>\n",
       "    <tr>\n",
       "      <th>3</th>\n",
       "      <td>ANTN61S4L7WG9</td>\n",
       "      <td>B00FRMAOIO</td>\n",
       "      <td>4.629167</td>\n",
       "    </tr>\n",
       "    <tr>\n",
       "      <th>4</th>\n",
       "      <td>ANTN61S4L7WG9</td>\n",
       "      <td>B0097CXWUW</td>\n",
       "      <td>4.502918</td>\n",
       "    </tr>\n",
       "  </tbody>\n",
       "</table>\n",
       "</div>"
      ],
      "text/plain": [
       "          userId   productId    Rating\n",
       "0  ANTN61S4L7WG9  B009Z7KMUM       5.0\n",
       "1  ANTN61S4L7WG9  B004CLYEDC       5.0\n",
       "2  ANTN61S4L7WG9  B0099SMFVQ  4.750906\n",
       "3  ANTN61S4L7WG9  B00FRMAOIO  4.629167\n",
       "4  ANTN61S4L7WG9  B0097CXWUW  4.502918"
      ]
     },
     "metadata": {},
     "output_type": "display_data"
    },
    {
     "data": {
      "text/markdown": [
       "<span style='color:brown'>**Recommending top 5 products for userid : AYNAH993VDECT ...**</span>"
      ],
      "text/plain": [
       "<IPython.core.display.Markdown object>"
      ]
     },
     "metadata": {},
     "output_type": "display_data"
    },
    {
     "data": {
      "text/html": [
       "<div>\n",
       "<style scoped>\n",
       "    .dataframe tbody tr th:only-of-type {\n",
       "        vertical-align: middle;\n",
       "    }\n",
       "\n",
       "    .dataframe tbody tr th {\n",
       "        vertical-align: top;\n",
       "    }\n",
       "\n",
       "    .dataframe thead th {\n",
       "        text-align: right;\n",
       "    }\n",
       "</style>\n",
       "<table border=\"1\" class=\"dataframe\">\n",
       "  <thead>\n",
       "    <tr style=\"text-align: right;\">\n",
       "      <th></th>\n",
       "      <th>userId</th>\n",
       "      <th>productId</th>\n",
       "      <th>Rating</th>\n",
       "    </tr>\n",
       "  </thead>\n",
       "  <tbody>\n",
       "    <tr>\n",
       "      <th>0</th>\n",
       "      <td>AYNAH993VDECT</td>\n",
       "      <td>B00CPIF4G0</td>\n",
       "      <td>4.265306</td>\n",
       "    </tr>\n",
       "    <tr>\n",
       "      <th>1</th>\n",
       "      <td>AYNAH993VDECT</td>\n",
       "      <td>B002FU6KF2</td>\n",
       "      <td>4.265306</td>\n",
       "    </tr>\n",
       "    <tr>\n",
       "      <th>2</th>\n",
       "      <td>AYNAH993VDECT</td>\n",
       "      <td>B005NHTG6O</td>\n",
       "      <td>4.265306</td>\n",
       "    </tr>\n",
       "    <tr>\n",
       "      <th>3</th>\n",
       "      <td>AYNAH993VDECT</td>\n",
       "      <td>B005G0CUP2</td>\n",
       "      <td>4.265306</td>\n",
       "    </tr>\n",
       "    <tr>\n",
       "      <th>4</th>\n",
       "      <td>AYNAH993VDECT</td>\n",
       "      <td>B0038KN114</td>\n",
       "      <td>4.265306</td>\n",
       "    </tr>\n",
       "  </tbody>\n",
       "</table>\n",
       "</div>"
      ],
      "text/plain": [
       "          userId   productId    Rating\n",
       "0  AYNAH993VDECT  B00CPIF4G0  4.265306\n",
       "1  AYNAH993VDECT  B002FU6KF2  4.265306\n",
       "2  AYNAH993VDECT  B005NHTG6O  4.265306\n",
       "3  AYNAH993VDECT  B005G0CUP2  4.265306\n",
       "4  AYNAH993VDECT  B0038KN114  4.265306"
      ]
     },
     "metadata": {},
     "output_type": "display_data"
    },
    {
     "data": {
      "text/markdown": [
       "<span style='color:brown'>**Recommending top 5 products for userid : A18YMFFJW974QS ...**</span>"
      ],
      "text/plain": [
       "<IPython.core.display.Markdown object>"
      ]
     },
     "metadata": {},
     "output_type": "display_data"
    },
    {
     "data": {
      "text/html": [
       "<div>\n",
       "<style scoped>\n",
       "    .dataframe tbody tr th:only-of-type {\n",
       "        vertical-align: middle;\n",
       "    }\n",
       "\n",
       "    .dataframe tbody tr th {\n",
       "        vertical-align: top;\n",
       "    }\n",
       "\n",
       "    .dataframe thead th {\n",
       "        text-align: right;\n",
       "    }\n",
       "</style>\n",
       "<table border=\"1\" class=\"dataframe\">\n",
       "  <thead>\n",
       "    <tr style=\"text-align: right;\">\n",
       "      <th></th>\n",
       "      <th>userId</th>\n",
       "      <th>productId</th>\n",
       "      <th>Rating</th>\n",
       "    </tr>\n",
       "  </thead>\n",
       "  <tbody>\n",
       "    <tr>\n",
       "      <th>0</th>\n",
       "      <td>A18YMFFJW974QS</td>\n",
       "      <td>B001PA94TW</td>\n",
       "      <td>4.261789</td>\n",
       "    </tr>\n",
       "    <tr>\n",
       "      <th>1</th>\n",
       "      <td>A18YMFFJW974QS</td>\n",
       "      <td>B001NZUFN8</td>\n",
       "      <td>4.261789</td>\n",
       "    </tr>\n",
       "    <tr>\n",
       "      <th>2</th>\n",
       "      <td>A18YMFFJW974QS</td>\n",
       "      <td>B0007WWI2O</td>\n",
       "      <td>4.261789</td>\n",
       "    </tr>\n",
       "    <tr>\n",
       "      <th>3</th>\n",
       "      <td>A18YMFFJW974QS</td>\n",
       "      <td>B003QP41EC</td>\n",
       "      <td>4.261789</td>\n",
       "    </tr>\n",
       "    <tr>\n",
       "      <th>4</th>\n",
       "      <td>A18YMFFJW974QS</td>\n",
       "      <td>B002RM08RE</td>\n",
       "      <td>4.15625</td>\n",
       "    </tr>\n",
       "  </tbody>\n",
       "</table>\n",
       "</div>"
      ],
      "text/plain": [
       "           userId   productId    Rating\n",
       "0  A18YMFFJW974QS  B001PA94TW  4.261789\n",
       "1  A18YMFFJW974QS  B001NZUFN8  4.261789\n",
       "2  A18YMFFJW974QS  B0007WWI2O  4.261789\n",
       "3  A18YMFFJW974QS  B003QP41EC  4.261789\n",
       "4  A18YMFFJW974QS  B002RM08RE   4.15625"
      ]
     },
     "metadata": {},
     "output_type": "display_data"
    }
   ],
   "source": [
    "result_knn_user1 = col_fil_knnwithmeans.recommend(user_id='ANTN61S4L7WG9', n=5)\n",
    "result_knn_user2 = col_fil_knnwithmeans.recommend(user_id='AYNAH993VDECT', n=5)\n",
    "result_knn_user3 = col_fil_knnwithmeans.recommend(user_id='A18YMFFJW974QS', n=5)"
   ]
  },
  {
   "cell_type": "markdown",
   "id": "61d4ef86-d17d-43f5-be6d-06c02a38df7c",
   "metadata": {},
   "source": [
    "#### Observations\n",
    "KNN (K-Nearest Neighbours) With Means model has an test RMSE value of 1.04 and cross validation RMSE value of 1.037.\n",
    "\n",
    "AS for the recommendations, each user will have different products recommended to them as they are infered based on the ratings provided by the similar users. To find the similar users, KNN model uses cosine similarity or Pearson's correlation to find the nerghbours."
   ]
  },
  {
   "cell_type": "markdown",
   "id": "d50adfd0-ed57-40a0-b3f6-163f6bc9ca90",
   "metadata": {},
   "source": [
    "### SVD - Model Based Collaborative Filtering\n",
    "The Singular-Value Decomposition, or SVD for short, is a matrix decomposition method for reducing a matrix to its constituent parts in order to make certain subsequent matrix calculations simpler. It provides another way to factorize a matrix, into singular vectors and singular values.\n",
    "\n",
    "A=U.Sigma.VT"
   ]
  },
  {
   "cell_type": "markdown",
   "id": "eeb3701c-2e1c-426b-80d6-f8c2afe876a5",
   "metadata": {},
   "source": [
    "#### Find optimal model using RandomizedSearchCV"
   ]
  },
  {
   "cell_type": "code",
   "execution_count": 69,
   "id": "9b2beaf4-560f-40cf-9f20-8f9b3048c56b",
   "metadata": {},
   "outputs": [
    {
     "name": "stdout",
     "output_type": "stream",
     "text": [
      "{'rmse': 0.9809014201818418}\n",
      "{'rmse': {'n_epochs': 20, 'lr_all': 0.005, 'reg_all': 0.4}}\n",
      "{'rmse': <surprise.prediction_algorithms.matrix_factorization.SVD object at 0x7fad32771160>}\n"
     ]
    }
   ],
   "source": [
    "params= {\n",
    "    \"n_epochs\": [5, 10, 15, 20],\n",
    "    \"lr_all\": [0.002, 0.005],\n",
    "    \"reg_all\": [0.4, 0.6]\n",
    "}\n",
    "clf = find_best_model(SVD, params, surprise_data)"
   ]
  },
  {
   "cell_type": "markdown",
   "id": "21b3c378-7bf8-4595-9d3c-2a69d2062a9b",
   "metadata": {},
   "source": [
    "#### Intialized the model"
   ]
  },
  {
   "cell_type": "code",
   "execution_count": 70,
   "id": "de446afe-1c00-47e1-81bb-0f3899a2877b",
   "metadata": {},
   "outputs": [],
   "source": [
    "svd = clf.best_estimator['rmse']\n",
    "col_fil_svd = collab_filtering_based_recommender_model(svd, trainset, testset, surprise_data)\n"
   ]
  },
  {
   "cell_type": "markdown",
   "id": "6a40d9b3-9c4f-4177-8bf7-c8efd54eb742",
   "metadata": {},
   "source": [
    "#### Fit and Predict"
   ]
  },
  {
   "cell_type": "code",
   "execution_count": 71,
   "id": "a1a5fdbd-70c1-42fb-bff2-b62f53a7fa99",
   "metadata": {},
   "outputs": [
    {
     "data": {
      "text/markdown": [
       "<span style='color:brown'>**Fitting the train data...**</span>"
      ],
      "text/plain": [
       "<IPython.core.display.Markdown object>"
      ]
     },
     "metadata": {},
     "output_type": "display_data"
    },
    {
     "data": {
      "text/markdown": [
       "<span style='color:brown'>**Predicting the test data...**</span>"
      ],
      "text/plain": [
       "<IPython.core.display.Markdown object>"
      ]
     },
     "metadata": {},
     "output_type": "display_data"
    },
    {
     "name": "stdout",
     "output_type": "stream",
     "text": [
      "RMSE: 0.9902\n"
     ]
    },
    {
     "data": {
      "text/markdown": [
       "<span style='color:brown'>**RMSE for the predicted result is 0.99**</span>"
      ],
      "text/plain": [
       "<IPython.core.display.Markdown object>"
      ]
     },
     "metadata": {},
     "output_type": "display_data"
    }
   ],
   "source": [
    "svd_rmse = col_fil_svd.fit_and_predict()"
   ]
  },
  {
   "cell_type": "markdown",
   "id": "3a83c869-151a-44b2-ac8c-06030831b6c0",
   "metadata": {},
   "source": [
    "#### Cross Validate the model"
   ]
  },
  {
   "cell_type": "code",
   "execution_count": 72,
   "id": "9f7e55b8-1aeb-4f0f-a11d-f4f7fdd86e2c",
   "metadata": {},
   "outputs": [
    {
     "data": {
      "text/markdown": [
       "<span style='color:brown'>**Cross Validating the data...**</span>"
      ],
      "text/plain": [
       "<IPython.core.display.Markdown object>"
      ]
     },
     "metadata": {},
     "output_type": "display_data"
    },
    {
     "data": {
      "text/markdown": [
       "<span style='color:brown'>**Mean CV RMSE is 0.981**</span>"
      ],
      "text/plain": [
       "<IPython.core.display.Markdown object>"
      ]
     },
     "metadata": {},
     "output_type": "display_data"
    }
   ],
   "source": [
    "svd_cv_rmse = col_fil_svd.cross_validate()"
   ]
  },
  {
   "cell_type": "markdown",
   "id": "bf8e607a-24cc-4c61-b58e-fb37df8bbe1c",
   "metadata": {},
   "source": [
    "#### Test the model"
   ]
  },
  {
   "cell_type": "code",
   "execution_count": 73,
   "id": "652c2bd4-6bb8-4b77-8cdf-32ef95b932d1",
   "metadata": {},
   "outputs": [
    {
     "data": {
      "text/markdown": [
       "<span style='color:brown'>**Recommending top 5 products for userid : ANTN61S4L7WG9 ...**</span>"
      ],
      "text/plain": [
       "<IPython.core.display.Markdown object>"
      ]
     },
     "metadata": {},
     "output_type": "display_data"
    },
    {
     "data": {
      "text/html": [
       "<div>\n",
       "<style scoped>\n",
       "    .dataframe tbody tr th:only-of-type {\n",
       "        vertical-align: middle;\n",
       "    }\n",
       "\n",
       "    .dataframe tbody tr th {\n",
       "        vertical-align: top;\n",
       "    }\n",
       "\n",
       "    .dataframe thead th {\n",
       "        text-align: right;\n",
       "    }\n",
       "</style>\n",
       "<table border=\"1\" class=\"dataframe\">\n",
       "  <thead>\n",
       "    <tr style=\"text-align: right;\">\n",
       "      <th></th>\n",
       "      <th>userId</th>\n",
       "      <th>productId</th>\n",
       "      <th>Rating</th>\n",
       "    </tr>\n",
       "  </thead>\n",
       "  <tbody>\n",
       "    <tr>\n",
       "      <th>0</th>\n",
       "      <td>ANTN61S4L7WG9</td>\n",
       "      <td>B0099SMFVQ</td>\n",
       "      <td>4.632831</td>\n",
       "    </tr>\n",
       "    <tr>\n",
       "      <th>1</th>\n",
       "      <td>ANTN61S4L7WG9</td>\n",
       "      <td>B004CLYEDC</td>\n",
       "      <td>4.554172</td>\n",
       "    </tr>\n",
       "    <tr>\n",
       "      <th>2</th>\n",
       "      <td>ANTN61S4L7WG9</td>\n",
       "      <td>B00HHRP11C</td>\n",
       "      <td>4.535256</td>\n",
       "    </tr>\n",
       "    <tr>\n",
       "      <th>3</th>\n",
       "      <td>ANTN61S4L7WG9</td>\n",
       "      <td>B00HVT27B8</td>\n",
       "      <td>4.50015</td>\n",
       "    </tr>\n",
       "    <tr>\n",
       "      <th>4</th>\n",
       "      <td>ANTN61S4L7WG9</td>\n",
       "      <td>B00E87E1OM</td>\n",
       "      <td>4.445674</td>\n",
       "    </tr>\n",
       "  </tbody>\n",
       "</table>\n",
       "</div>"
      ],
      "text/plain": [
       "          userId   productId    Rating\n",
       "0  ANTN61S4L7WG9  B0099SMFVQ  4.632831\n",
       "1  ANTN61S4L7WG9  B004CLYEDC  4.554172\n",
       "2  ANTN61S4L7WG9  B00HHRP11C  4.535256\n",
       "3  ANTN61S4L7WG9  B00HVT27B8   4.50015\n",
       "4  ANTN61S4L7WG9  B00E87E1OM  4.445674"
      ]
     },
     "metadata": {},
     "output_type": "display_data"
    },
    {
     "data": {
      "text/markdown": [
       "<span style='color:brown'>**Recommending top 5 products for userid : AYNAH993VDECT ...**</span>"
      ],
      "text/plain": [
       "<IPython.core.display.Markdown object>"
      ]
     },
     "metadata": {},
     "output_type": "display_data"
    },
    {
     "data": {
      "text/html": [
       "<div>\n",
       "<style scoped>\n",
       "    .dataframe tbody tr th:only-of-type {\n",
       "        vertical-align: middle;\n",
       "    }\n",
       "\n",
       "    .dataframe tbody tr th {\n",
       "        vertical-align: top;\n",
       "    }\n",
       "\n",
       "    .dataframe thead th {\n",
       "        text-align: right;\n",
       "    }\n",
       "</style>\n",
       "<table border=\"1\" class=\"dataframe\">\n",
       "  <thead>\n",
       "    <tr style=\"text-align: right;\">\n",
       "      <th></th>\n",
       "      <th>userId</th>\n",
       "      <th>productId</th>\n",
       "      <th>Rating</th>\n",
       "    </tr>\n",
       "  </thead>\n",
       "  <tbody>\n",
       "    <tr>\n",
       "      <th>0</th>\n",
       "      <td>AYNAH993VDECT</td>\n",
       "      <td>B006ZT4VA0</td>\n",
       "      <td>4.608708</td>\n",
       "    </tr>\n",
       "    <tr>\n",
       "      <th>1</th>\n",
       "      <td>AYNAH993VDECT</td>\n",
       "      <td>B003ZKG10K</td>\n",
       "      <td>4.582078</td>\n",
       "    </tr>\n",
       "    <tr>\n",
       "      <th>2</th>\n",
       "      <td>AYNAH993VDECT</td>\n",
       "      <td>B008LCYIEI</td>\n",
       "      <td>4.511767</td>\n",
       "    </tr>\n",
       "    <tr>\n",
       "      <th>3</th>\n",
       "      <td>AYNAH993VDECT</td>\n",
       "      <td>B00IVPU59W</td>\n",
       "      <td>4.474641</td>\n",
       "    </tr>\n",
       "    <tr>\n",
       "      <th>4</th>\n",
       "      <td>AYNAH993VDECT</td>\n",
       "      <td>B00475K64E</td>\n",
       "      <td>4.458573</td>\n",
       "    </tr>\n",
       "  </tbody>\n",
       "</table>\n",
       "</div>"
      ],
      "text/plain": [
       "          userId   productId    Rating\n",
       "0  AYNAH993VDECT  B006ZT4VA0  4.608708\n",
       "1  AYNAH993VDECT  B003ZKG10K  4.582078\n",
       "2  AYNAH993VDECT  B008LCYIEI  4.511767\n",
       "3  AYNAH993VDECT  B00IVPU59W  4.474641\n",
       "4  AYNAH993VDECT  B00475K64E  4.458573"
      ]
     },
     "metadata": {},
     "output_type": "display_data"
    },
    {
     "data": {
      "text/markdown": [
       "<span style='color:brown'>**Recommending top 5 products for userid : A18YMFFJW974QS ...**</span>"
      ],
      "text/plain": [
       "<IPython.core.display.Markdown object>"
      ]
     },
     "metadata": {},
     "output_type": "display_data"
    },
    {
     "data": {
      "text/html": [
       "<div>\n",
       "<style scoped>\n",
       "    .dataframe tbody tr th:only-of-type {\n",
       "        vertical-align: middle;\n",
       "    }\n",
       "\n",
       "    .dataframe tbody tr th {\n",
       "        vertical-align: top;\n",
       "    }\n",
       "\n",
       "    .dataframe thead th {\n",
       "        text-align: right;\n",
       "    }\n",
       "</style>\n",
       "<table border=\"1\" class=\"dataframe\">\n",
       "  <thead>\n",
       "    <tr style=\"text-align: right;\">\n",
       "      <th></th>\n",
       "      <th>userId</th>\n",
       "      <th>productId</th>\n",
       "      <th>Rating</th>\n",
       "    </tr>\n",
       "  </thead>\n",
       "  <tbody>\n",
       "    <tr>\n",
       "      <th>0</th>\n",
       "      <td>A18YMFFJW974QS</td>\n",
       "      <td>B00BOHNYU6</td>\n",
       "      <td>4.597064</td>\n",
       "    </tr>\n",
       "    <tr>\n",
       "      <th>1</th>\n",
       "      <td>A18YMFFJW974QS</td>\n",
       "      <td>B001MXLD4G</td>\n",
       "      <td>4.496877</td>\n",
       "    </tr>\n",
       "    <tr>\n",
       "      <th>2</th>\n",
       "      <td>A18YMFFJW974QS</td>\n",
       "      <td>B000TKHGL2</td>\n",
       "      <td>4.454328</td>\n",
       "    </tr>\n",
       "    <tr>\n",
       "      <th>3</th>\n",
       "      <td>A18YMFFJW974QS</td>\n",
       "      <td>B002RM08RE</td>\n",
       "      <td>4.4109</td>\n",
       "    </tr>\n",
       "    <tr>\n",
       "      <th>4</th>\n",
       "      <td>A18YMFFJW974QS</td>\n",
       "      <td>B006ZZUK5Y</td>\n",
       "      <td>4.34372</td>\n",
       "    </tr>\n",
       "  </tbody>\n",
       "</table>\n",
       "</div>"
      ],
      "text/plain": [
       "           userId   productId    Rating\n",
       "0  A18YMFFJW974QS  B00BOHNYU6  4.597064\n",
       "1  A18YMFFJW974QS  B001MXLD4G  4.496877\n",
       "2  A18YMFFJW974QS  B000TKHGL2  4.454328\n",
       "3  A18YMFFJW974QS  B002RM08RE    4.4109\n",
       "4  A18YMFFJW974QS  B006ZZUK5Y   4.34372"
      ]
     },
     "metadata": {},
     "output_type": "display_data"
    }
   ],
   "source": [
    "result_svd_user1 = col_fil_svd.recommend(user_id='ANTN61S4L7WG9', n=5)\n",
    "result_svd_user2 = col_fil_svd.recommend(user_id='AYNAH993VDECT', n=5)\n",
    "result_svd_user3 = col_fil_svd.recommend(user_id='A18YMFFJW974QS', n=5)"
   ]
  },
  {
   "cell_type": "markdown",
   "id": "d754f5d7-4d9f-4d77-87a6-38562ac9300b",
   "metadata": {},
   "source": [
    "#### Observations\n",
    "SVD (Singular Value Decomposition) model has an test RMSE value of 0.99 and cross validation RMSE value of 0.981. Using this model we have a reduced RMSE value compared to KNNWithMeans.\n",
    "\n",
    "AS for the recommendations, each user will have different products recommended to them as they are infered by filling out missing entries in the matrix during matrix factorization using SVD."
   ]
  },
  {
   "cell_type": "markdown",
   "id": "eba4e14a-b5c7-41c6-99ed-0c7bfa741d0c",
   "metadata": {},
   "source": [
    "## Conclusion"
   ]
  },
  {
   "cell_type": "markdown",
   "id": "c2106cd5-66bf-4202-b3ac-f501196a7b48",
   "metadata": {},
   "source": [
    "Recommender systems are algorithms aimed at suggesting relevant items to users (items being movies to watch, text to read, products to buy or anything else depending on industries). Recommender systems are really critical in some industries as they can generate a huge amount of income when they are efficient or also be a way to stand out significantly from competitors.\n",
    "\n",
    "We have used 2 different types here,\n",
    "\n",
    "* Popularity Based Recommender System\n",
    "* Collaborative Filtering Recommender System\n",
    "Below are the recommended results of same 3 users picked at random for all the models"
   ]
  },
  {
   "cell_type": "markdown",
   "id": "6fbec1f2-1f94-48d9-88b1-9e0318037ba9",
   "metadata": {},
   "source": [
    "#### Popularity Based Recommendation Model\n",
    "Being popularity based recommender model, we have got the same result for all three users i.e. the model is recommending same products for all the users as shown below:"
   ]
  },
  {
   "cell_type": "code",
   "execution_count": 74,
   "id": "911529c5-c598-405a-8a12-e2d83f517d57",
   "metadata": {},
   "outputs": [
    {
     "data": {
      "text/html": [
       "<table style=\"display:inline;margin-left:50px !important;margin-right: 40px !important\" border=\"1\" class=\"dataframe\">\n",
       "  <thead>\n",
       "    <tr style=\"text-align: right;\">\n",
       "      <th></th>\n",
       "      <th>user_id</th>\n",
       "      <th>productId</th>\n",
       "      <th>score</th>\n",
       "      <th>Rank</th>\n",
       "    </tr>\n",
       "  </thead>\n",
       "  <tbody>\n",
       "    <tr>\n",
       "      <th>30874</th>\n",
       "      <td>ANTN61S4L7WG9</td>\n",
       "      <td>B0088CJT4U</td>\n",
       "      <td>142</td>\n",
       "      <td>1.0</td>\n",
       "    </tr>\n",
       "    <tr>\n",
       "      <th>19570</th>\n",
       "      <td>ANTN61S4L7WG9</td>\n",
       "      <td>B003ES5ZUU</td>\n",
       "      <td>134</td>\n",
       "      <td>2.0</td>\n",
       "    </tr>\n",
       "    <tr>\n",
       "      <th>30273</th>\n",
       "      <td>ANTN61S4L7WG9</td>\n",
       "      <td>B007WTAJTO</td>\n",
       "      <td>126</td>\n",
       "      <td>3.0</td>\n",
       "    </tr>\n",
       "    <tr>\n",
       "      <th>30557</th>\n",
       "      <td>ANTN61S4L7WG9</td>\n",
       "      <td>B00829THK0</td>\n",
       "      <td>103</td>\n",
       "      <td>6.0</td>\n",
       "    </tr>\n",
       "    <tr>\n",
       "      <th>17292</th>\n",
       "      <td>ANTN61S4L7WG9</td>\n",
       "      <td>B002R5AM7C</td>\n",
       "      <td>97</td>\n",
       "      <td>8.0</td>\n",
       "    </tr>\n",
       "  </tbody>\n",
       "</table style=\"display:inline;margin-left:50px !important;margin-right: 40px !important\"><table style=\"display:inline;margin-left:50px !important;margin-right: 40px !important\" border=\"1\" class=\"dataframe\">\n",
       "  <thead>\n",
       "    <tr style=\"text-align: right;\">\n",
       "      <th></th>\n",
       "      <th>user_id</th>\n",
       "      <th>productId</th>\n",
       "      <th>score</th>\n",
       "      <th>Rank</th>\n",
       "    </tr>\n",
       "  </thead>\n",
       "  <tbody>\n",
       "    <tr>\n",
       "      <th>30874</th>\n",
       "      <td>AYNAH993VDECT</td>\n",
       "      <td>B0088CJT4U</td>\n",
       "      <td>142</td>\n",
       "      <td>1.0</td>\n",
       "    </tr>\n",
       "    <tr>\n",
       "      <th>19570</th>\n",
       "      <td>AYNAH993VDECT</td>\n",
       "      <td>B003ES5ZUU</td>\n",
       "      <td>134</td>\n",
       "      <td>2.0</td>\n",
       "    </tr>\n",
       "    <tr>\n",
       "      <th>30273</th>\n",
       "      <td>AYNAH993VDECT</td>\n",
       "      <td>B007WTAJTO</td>\n",
       "      <td>126</td>\n",
       "      <td>3.0</td>\n",
       "    </tr>\n",
       "    <tr>\n",
       "      <th>8700</th>\n",
       "      <td>AYNAH993VDECT</td>\n",
       "      <td>B000N99BBC</td>\n",
       "      <td>117</td>\n",
       "      <td>4.0</td>\n",
       "    </tr>\n",
       "    <tr>\n",
       "      <th>30561</th>\n",
       "      <td>AYNAH993VDECT</td>\n",
       "      <td>B00829TIEK</td>\n",
       "      <td>104</td>\n",
       "      <td>5.0</td>\n",
       "    </tr>\n",
       "  </tbody>\n",
       "</table style=\"display:inline;margin-left:50px !important;margin-right: 40px !important\"><table style=\"display:inline;margin-left:50px !important;margin-right: 40px !important\" border=\"1\" class=\"dataframe\">\n",
       "  <thead>\n",
       "    <tr style=\"text-align: right;\">\n",
       "      <th></th>\n",
       "      <th>user_id</th>\n",
       "      <th>productId</th>\n",
       "      <th>score</th>\n",
       "      <th>Rank</th>\n",
       "    </tr>\n",
       "  </thead>\n",
       "  <tbody>\n",
       "    <tr>\n",
       "      <th>30874</th>\n",
       "      <td>A18YMFFJW974QS</td>\n",
       "      <td>B0088CJT4U</td>\n",
       "      <td>142</td>\n",
       "      <td>1.0</td>\n",
       "    </tr>\n",
       "    <tr>\n",
       "      <th>19570</th>\n",
       "      <td>A18YMFFJW974QS</td>\n",
       "      <td>B003ES5ZUU</td>\n",
       "      <td>134</td>\n",
       "      <td>2.0</td>\n",
       "    </tr>\n",
       "    <tr>\n",
       "      <th>30273</th>\n",
       "      <td>A18YMFFJW974QS</td>\n",
       "      <td>B007WTAJTO</td>\n",
       "      <td>126</td>\n",
       "      <td>3.0</td>\n",
       "    </tr>\n",
       "    <tr>\n",
       "      <th>8700</th>\n",
       "      <td>A18YMFFJW974QS</td>\n",
       "      <td>B000N99BBC</td>\n",
       "      <td>117</td>\n",
       "      <td>4.0</td>\n",
       "    </tr>\n",
       "    <tr>\n",
       "      <th>30561</th>\n",
       "      <td>A18YMFFJW974QS</td>\n",
       "      <td>B00829TIEK</td>\n",
       "      <td>104</td>\n",
       "      <td>5.0</td>\n",
       "    </tr>\n",
       "  </tbody>\n",
       "</table style=\"display:inline;margin-left:50px !important;margin-right: 40px !important\">"
      ]
     },
     "metadata": {},
     "output_type": "display_data"
    }
   ],
   "source": [
    "display_side_by_side([result_pop_user1, result_pop_user2, result_pop_user3])"
   ]
  },
  {
   "cell_type": "markdown",
   "id": "75d7e97f-2aae-44c7-b07a-a3bef1e9caed",
   "metadata": {},
   "source": [
    "### Collaborative Filtering Recommendation Model"
   ]
  },
  {
   "cell_type": "markdown",
   "id": "a2275486-d925-4c14-be5f-afbb7a41052e",
   "metadata": {},
   "source": [
    "#### KNNWithMeans Model\n",
    "KNN (K-Nearest Neighbours) With Means model has an test RMSE value of 1.04 and cross validation RMSE value of 1.037. Each user will have different products recommended to them as they are infered based on the ratings provided by the similar users."
   ]
  },
  {
   "cell_type": "code",
   "execution_count": 75,
   "id": "f59fb2a0-c58a-48e3-874b-dd86ea2a1bcb",
   "metadata": {},
   "outputs": [
    {
     "data": {
      "text/html": [
       "<table style=\"display:inline;margin-left:50px !important;margin-right: 40px !important\" border=\"1\" class=\"dataframe\">\n",
       "  <thead>\n",
       "    <tr style=\"text-align: right;\">\n",
       "      <th></th>\n",
       "      <th>userId</th>\n",
       "      <th>productId</th>\n",
       "      <th>Rating</th>\n",
       "    </tr>\n",
       "  </thead>\n",
       "  <tbody>\n",
       "    <tr>\n",
       "      <th>0</th>\n",
       "      <td>ANTN61S4L7WG9</td>\n",
       "      <td>B009Z7KMUM</td>\n",
       "      <td>5.0</td>\n",
       "    </tr>\n",
       "    <tr>\n",
       "      <th>1</th>\n",
       "      <td>ANTN61S4L7WG9</td>\n",
       "      <td>B004CLYEDC</td>\n",
       "      <td>5.0</td>\n",
       "    </tr>\n",
       "    <tr>\n",
       "      <th>2</th>\n",
       "      <td>ANTN61S4L7WG9</td>\n",
       "      <td>B0099SMFVQ</td>\n",
       "      <td>4.750906</td>\n",
       "    </tr>\n",
       "    <tr>\n",
       "      <th>3</th>\n",
       "      <td>ANTN61S4L7WG9</td>\n",
       "      <td>B00FRMAOIO</td>\n",
       "      <td>4.629167</td>\n",
       "    </tr>\n",
       "    <tr>\n",
       "      <th>4</th>\n",
       "      <td>ANTN61S4L7WG9</td>\n",
       "      <td>B0097CXWUW</td>\n",
       "      <td>4.502918</td>\n",
       "    </tr>\n",
       "  </tbody>\n",
       "</table style=\"display:inline;margin-left:50px !important;margin-right: 40px !important\"><table style=\"display:inline;margin-left:50px !important;margin-right: 40px !important\" border=\"1\" class=\"dataframe\">\n",
       "  <thead>\n",
       "    <tr style=\"text-align: right;\">\n",
       "      <th></th>\n",
       "      <th>userId</th>\n",
       "      <th>productId</th>\n",
       "      <th>Rating</th>\n",
       "    </tr>\n",
       "  </thead>\n",
       "  <tbody>\n",
       "    <tr>\n",
       "      <th>0</th>\n",
       "      <td>AYNAH993VDECT</td>\n",
       "      <td>B00CPIF4G0</td>\n",
       "      <td>4.265306</td>\n",
       "    </tr>\n",
       "    <tr>\n",
       "      <th>1</th>\n",
       "      <td>AYNAH993VDECT</td>\n",
       "      <td>B002FU6KF2</td>\n",
       "      <td>4.265306</td>\n",
       "    </tr>\n",
       "    <tr>\n",
       "      <th>2</th>\n",
       "      <td>AYNAH993VDECT</td>\n",
       "      <td>B005NHTG6O</td>\n",
       "      <td>4.265306</td>\n",
       "    </tr>\n",
       "    <tr>\n",
       "      <th>3</th>\n",
       "      <td>AYNAH993VDECT</td>\n",
       "      <td>B005G0CUP2</td>\n",
       "      <td>4.265306</td>\n",
       "    </tr>\n",
       "    <tr>\n",
       "      <th>4</th>\n",
       "      <td>AYNAH993VDECT</td>\n",
       "      <td>B0038KN114</td>\n",
       "      <td>4.265306</td>\n",
       "    </tr>\n",
       "  </tbody>\n",
       "</table style=\"display:inline;margin-left:50px !important;margin-right: 40px !important\"><table style=\"display:inline;margin-left:50px !important;margin-right: 40px !important\" border=\"1\" class=\"dataframe\">\n",
       "  <thead>\n",
       "    <tr style=\"text-align: right;\">\n",
       "      <th></th>\n",
       "      <th>userId</th>\n",
       "      <th>productId</th>\n",
       "      <th>Rating</th>\n",
       "    </tr>\n",
       "  </thead>\n",
       "  <tbody>\n",
       "    <tr>\n",
       "      <th>0</th>\n",
       "      <td>A18YMFFJW974QS</td>\n",
       "      <td>B001PA94TW</td>\n",
       "      <td>4.261789</td>\n",
       "    </tr>\n",
       "    <tr>\n",
       "      <th>1</th>\n",
       "      <td>A18YMFFJW974QS</td>\n",
       "      <td>B001NZUFN8</td>\n",
       "      <td>4.261789</td>\n",
       "    </tr>\n",
       "    <tr>\n",
       "      <th>2</th>\n",
       "      <td>A18YMFFJW974QS</td>\n",
       "      <td>B0007WWI2O</td>\n",
       "      <td>4.261789</td>\n",
       "    </tr>\n",
       "    <tr>\n",
       "      <th>3</th>\n",
       "      <td>A18YMFFJW974QS</td>\n",
       "      <td>B003QP41EC</td>\n",
       "      <td>4.261789</td>\n",
       "    </tr>\n",
       "    <tr>\n",
       "      <th>4</th>\n",
       "      <td>A18YMFFJW974QS</td>\n",
       "      <td>B002RM08RE</td>\n",
       "      <td>4.15625</td>\n",
       "    </tr>\n",
       "  </tbody>\n",
       "</table style=\"display:inline;margin-left:50px !important;margin-right: 40px !important\">"
      ]
     },
     "metadata": {},
     "output_type": "display_data"
    }
   ],
   "source": [
    "display_side_by_side([result_knn_user1, result_knn_user2, result_knn_user3])\n"
   ]
  },
  {
   "cell_type": "markdown",
   "id": "1ba9d6b8-66e4-48b5-bc47-2067673a42a0",
   "metadata": {},
   "source": [
    "### SVD Model\n",
    "SVD (Singular Value Decomposition) model has an test RMSE value of 0.99 and cross validation RMSE value of 0.981. Each user will have different products recommended to them."
   ]
  },
  {
   "cell_type": "code",
   "execution_count": 76,
   "id": "4a89ce7f-26b8-4591-85bf-a35af06a7333",
   "metadata": {},
   "outputs": [
    {
     "data": {
      "text/html": [
       "<table style=\"display:inline;margin-left:50px !important;margin-right: 40px !important\" border=\"1\" class=\"dataframe\">\n",
       "  <thead>\n",
       "    <tr style=\"text-align: right;\">\n",
       "      <th></th>\n",
       "      <th>userId</th>\n",
       "      <th>productId</th>\n",
       "      <th>Rating</th>\n",
       "    </tr>\n",
       "  </thead>\n",
       "  <tbody>\n",
       "    <tr>\n",
       "      <th>0</th>\n",
       "      <td>ANTN61S4L7WG9</td>\n",
       "      <td>B0099SMFVQ</td>\n",
       "      <td>4.632831</td>\n",
       "    </tr>\n",
       "    <tr>\n",
       "      <th>1</th>\n",
       "      <td>ANTN61S4L7WG9</td>\n",
       "      <td>B004CLYEDC</td>\n",
       "      <td>4.554172</td>\n",
       "    </tr>\n",
       "    <tr>\n",
       "      <th>2</th>\n",
       "      <td>ANTN61S4L7WG9</td>\n",
       "      <td>B00HHRP11C</td>\n",
       "      <td>4.535256</td>\n",
       "    </tr>\n",
       "    <tr>\n",
       "      <th>3</th>\n",
       "      <td>ANTN61S4L7WG9</td>\n",
       "      <td>B00HVT27B8</td>\n",
       "      <td>4.50015</td>\n",
       "    </tr>\n",
       "    <tr>\n",
       "      <th>4</th>\n",
       "      <td>ANTN61S4L7WG9</td>\n",
       "      <td>B00E87E1OM</td>\n",
       "      <td>4.445674</td>\n",
       "    </tr>\n",
       "  </tbody>\n",
       "</table style=\"display:inline;margin-left:50px !important;margin-right: 40px !important\"><table style=\"display:inline;margin-left:50px !important;margin-right: 40px !important\" border=\"1\" class=\"dataframe\">\n",
       "  <thead>\n",
       "    <tr style=\"text-align: right;\">\n",
       "      <th></th>\n",
       "      <th>userId</th>\n",
       "      <th>productId</th>\n",
       "      <th>Rating</th>\n",
       "    </tr>\n",
       "  </thead>\n",
       "  <tbody>\n",
       "    <tr>\n",
       "      <th>0</th>\n",
       "      <td>AYNAH993VDECT</td>\n",
       "      <td>B006ZT4VA0</td>\n",
       "      <td>4.608708</td>\n",
       "    </tr>\n",
       "    <tr>\n",
       "      <th>1</th>\n",
       "      <td>AYNAH993VDECT</td>\n",
       "      <td>B003ZKG10K</td>\n",
       "      <td>4.582078</td>\n",
       "    </tr>\n",
       "    <tr>\n",
       "      <th>2</th>\n",
       "      <td>AYNAH993VDECT</td>\n",
       "      <td>B008LCYIEI</td>\n",
       "      <td>4.511767</td>\n",
       "    </tr>\n",
       "    <tr>\n",
       "      <th>3</th>\n",
       "      <td>AYNAH993VDECT</td>\n",
       "      <td>B00IVPU59W</td>\n",
       "      <td>4.474641</td>\n",
       "    </tr>\n",
       "    <tr>\n",
       "      <th>4</th>\n",
       "      <td>AYNAH993VDECT</td>\n",
       "      <td>B00475K64E</td>\n",
       "      <td>4.458573</td>\n",
       "    </tr>\n",
       "  </tbody>\n",
       "</table style=\"display:inline;margin-left:50px !important;margin-right: 40px !important\"><table style=\"display:inline;margin-left:50px !important;margin-right: 40px !important\" border=\"1\" class=\"dataframe\">\n",
       "  <thead>\n",
       "    <tr style=\"text-align: right;\">\n",
       "      <th></th>\n",
       "      <th>userId</th>\n",
       "      <th>productId</th>\n",
       "      <th>Rating</th>\n",
       "    </tr>\n",
       "  </thead>\n",
       "  <tbody>\n",
       "    <tr>\n",
       "      <th>0</th>\n",
       "      <td>A18YMFFJW974QS</td>\n",
       "      <td>B00BOHNYU6</td>\n",
       "      <td>4.597064</td>\n",
       "    </tr>\n",
       "    <tr>\n",
       "      <th>1</th>\n",
       "      <td>A18YMFFJW974QS</td>\n",
       "      <td>B001MXLD4G</td>\n",
       "      <td>4.496877</td>\n",
       "    </tr>\n",
       "    <tr>\n",
       "      <th>2</th>\n",
       "      <td>A18YMFFJW974QS</td>\n",
       "      <td>B000TKHGL2</td>\n",
       "      <td>4.454328</td>\n",
       "    </tr>\n",
       "    <tr>\n",
       "      <th>3</th>\n",
       "      <td>A18YMFFJW974QS</td>\n",
       "      <td>B002RM08RE</td>\n",
       "      <td>4.4109</td>\n",
       "    </tr>\n",
       "    <tr>\n",
       "      <th>4</th>\n",
       "      <td>A18YMFFJW974QS</td>\n",
       "      <td>B006ZZUK5Y</td>\n",
       "      <td>4.34372</td>\n",
       "    </tr>\n",
       "  </tbody>\n",
       "</table style=\"display:inline;margin-left:50px !important;margin-right: 40px !important\">"
      ]
     },
     "metadata": {},
     "output_type": "display_data"
    }
   ],
   "source": [
    "display_side_by_side([result_svd_user1, result_svd_user2, result_svd_user3])"
   ]
  },
  {
   "cell_type": "markdown",
   "id": "ecba948c-65bc-4841-ad1d-529eb40557c0",
   "metadata": {},
   "source": [
    "#### \n",
    "SVD is better model compared to KNN or Popularity with a better RMSE value of 0.981. We can also see the products that are recommended in SVD is different to that of KNNWithMeans as SVD uses matrix factorization. This is more useful when the data is sparse with many missing ratings."
   ]
  },
  {
   "cell_type": "code",
   "execution_count": null,
   "id": "9cf7d862-6c35-4c05-a2ad-99f0df24dd3b",
   "metadata": {},
   "outputs": [],
   "source": []
  }
 ],
 "metadata": {
  "kernelspec": {
   "display_name": "Python (convo-ds-api)",
   "language": "python",
   "name": "convo-ds-api-env"
  },
  "language_info": {
   "codemirror_mode": {
    "name": "ipython",
    "version": 3
   },
   "file_extension": ".py",
   "mimetype": "text/x-python",
   "name": "python",
   "nbconvert_exporter": "python",
   "pygments_lexer": "ipython3",
   "version": "3.9.7"
  }
 },
 "nbformat": 4,
 "nbformat_minor": 5
}
